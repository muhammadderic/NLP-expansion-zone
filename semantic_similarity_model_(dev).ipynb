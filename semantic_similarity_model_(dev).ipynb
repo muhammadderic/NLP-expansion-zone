{
  "cells": [
    {
      "cell_type": "markdown",
      "source": [
        "# Libraries"
      ],
      "metadata": {
        "id": "tnE5BjHUDcCW"
      },
      "id": "tnE5BjHUDcCW"
    },
    {
      "cell_type": "code",
      "source": [
        "! pip install -q datasets # install the Hugging Face Datasets library (a wide range of datasets for NLP and other machine learning tasks)."
      ],
      "metadata": {
        "id": "rcJt-JgEwQod",
        "colab": {
          "base_uri": "https://localhost:8080/"
        },
        "outputId": "7e0c3e7f-cffb-42fa-9c4e-9c04d3e325d2"
      },
      "id": "rcJt-JgEwQod",
      "execution_count": 1,
      "outputs": [
        {
          "output_type": "stream",
          "name": "stdout",
          "text": [
            "\u001b[?25l   \u001b[90m━━━━━━━━━━━━━━━━━━━━━━━━━━━━━━━━━━━━━━━━\u001b[0m \u001b[32m0.0/484.9 kB\u001b[0m \u001b[31m?\u001b[0m eta \u001b[36m-:--:--\u001b[0m\r\u001b[2K   \u001b[91m━━━━━━━━━━━━━━━━━━━━━━━━━━━━━━━━━━━━━━━\u001b[0m\u001b[91m╸\u001b[0m \u001b[32m481.3/484.9 kB\u001b[0m \u001b[31m58.5 MB/s\u001b[0m eta \u001b[36m0:00:01\u001b[0m\r\u001b[2K   \u001b[90m━━━━━━━━━━━━━━━━━━━━━━━━━━━━━━━━━━━━━━━━\u001b[0m \u001b[32m484.9/484.9 kB\u001b[0m \u001b[31m11.7 MB/s\u001b[0m eta \u001b[36m0:00:00\u001b[0m\n",
            "\u001b[?25h\u001b[?25l   \u001b[90m━━━━━━━━━━━━━━━━━━━━━━━━━━━━━━━━━━━━━━━━\u001b[0m \u001b[32m0.0/116.3 kB\u001b[0m \u001b[31m?\u001b[0m eta \u001b[36m-:--:--\u001b[0m\r\u001b[2K   \u001b[90m━━━━━━━━━━━━━━━━━━━━━━━━━━━━━━━━━━━━━━━━\u001b[0m \u001b[32m116.3/116.3 kB\u001b[0m \u001b[31m5.9 MB/s\u001b[0m eta \u001b[36m0:00:00\u001b[0m\n",
            "\u001b[?25h\u001b[?25l   \u001b[90m━━━━━━━━━━━━━━━━━━━━━━━━━━━━━━━━━━━━━━━━\u001b[0m \u001b[32m0.0/143.5 kB\u001b[0m \u001b[31m?\u001b[0m eta \u001b[36m-:--:--\u001b[0m\r\u001b[2K   \u001b[90m━━━━━━━━━━━━━━━━━━━━━━━━━━━━━━━━━━━━━━━━\u001b[0m \u001b[32m143.5/143.5 kB\u001b[0m \u001b[31m7.8 MB/s\u001b[0m eta \u001b[36m0:00:00\u001b[0m\n",
            "\u001b[?25h\u001b[?25l   \u001b[90m━━━━━━━━━━━━━━━━━━━━━━━━━━━━━━━━━━━━━━━━\u001b[0m \u001b[32m0.0/194.8 kB\u001b[0m \u001b[31m?\u001b[0m eta \u001b[36m-:--:--\u001b[0m\r\u001b[2K   \u001b[90m━━━━━━━━━━━━━━━━━━━━━━━━━━━━━━━━━━━━━━━━\u001b[0m \u001b[32m194.8/194.8 kB\u001b[0m \u001b[31m5.0 MB/s\u001b[0m eta \u001b[36m0:00:00\u001b[0m\n",
            "\u001b[?25h"
          ]
        }
      ]
    },
    {
      "cell_type": "markdown",
      "source": [
        "# Data Collection"
      ],
      "metadata": {
        "id": "U2QWDaGrtRyQ"
      },
      "id": "U2QWDaGrtRyQ"
    },
    {
      "cell_type": "markdown",
      "source": [
        "### Get data from Kaggle"
      ],
      "metadata": {
        "id": "F-UnCsn_DuBe"
      },
      "id": "F-UnCsn_DuBe"
    },
    {
      "cell_type": "code",
      "source": [
        "import os\n",
        "import zipfile\n",
        "from google.colab import files\n",
        "\n",
        "def setup_and_download_kaggle_dataset(competition_name: str):\n",
        "    \"\"\"\n",
        "    Sets up the Kaggle API in Google Colab, uploads kaggle.json,\n",
        "    downloads the specified dataset, and extracts it.\n",
        "\n",
        "    Args:\n",
        "    competition_name (str): The Kaggle competition name (e.g., 'nlp-getting-started').\n",
        "\n",
        "    Returns:\n",
        "    List of extracted files.\n",
        "    \"\"\"\n",
        "    # Upload Kaggle API key\n",
        "    print(\"Upload your kaggle.json file.\")\n",
        "    files.upload()\n",
        "\n",
        "    # Create .kaggle directory and move kaggle.json\n",
        "    kaggle_dir = \"/root/.kaggle\"\n",
        "    os.makedirs(kaggle_dir, exist_ok=True)\n",
        "    !mv kaggle.json {kaggle_dir}/\n",
        "\n",
        "    # Set permissions for security\n",
        "    !chmod 600 {kaggle_dir}/kaggle.json\n",
        "\n",
        "    # Download the dataset\n",
        "    print(f\"Downloading dataset: {competition_name}\")\n",
        "    !kaggle competitions download -c {competition_name}\n",
        "\n",
        "    # Extract the dataset\n",
        "    zip_file = f\"{competition_name}.zip\"\n",
        "    if os.path.exists(zip_file):\n",
        "        with zipfile.ZipFile(zip_file, 'r') as zip_ref:\n",
        "            zip_ref.extractall(competition_name)\n",
        "        print(\"Dataset extracted successfully!\")\n",
        "    else:\n",
        "        print(\"Error: Dataset zip file not found.\")\n",
        "\n",
        "    # Return the list of extracted files\n",
        "    extracted_files = os.listdir(competition_name) if os.path.exists(competition_name) else []\n",
        "    print(\"Extracted Files:\", extracted_files)\n",
        "    return extracted_files\n",
        "\n",
        "# Usage\n",
        "files_list = setup_and_download_kaggle_dataset(\"us-patent-phrase-to-phrase-matching\")\n",
        "\n",
        "# ['train.csv', 'sample_submission.csv', 'test.csv']"
      ],
      "metadata": {
        "id": "tJ57W4enDx-b",
        "colab": {
          "base_uri": "https://localhost:8080/",
          "height": 194
        },
        "outputId": "06b54b3f-2455-4eec-b338-fd703761aab3"
      },
      "id": "tJ57W4enDx-b",
      "execution_count": 2,
      "outputs": [
        {
          "output_type": "stream",
          "name": "stdout",
          "text": [
            "Upload your kaggle.json file.\n"
          ]
        },
        {
          "output_type": "display_data",
          "data": {
            "text/plain": [
              "<IPython.core.display.HTML object>"
            ],
            "text/html": [
              "\n",
              "     <input type=\"file\" id=\"files-1248eb54-2672-423b-8332-2333c0ac0063\" name=\"files[]\" multiple disabled\n",
              "        style=\"border:none\" />\n",
              "     <output id=\"result-1248eb54-2672-423b-8332-2333c0ac0063\">\n",
              "      Upload widget is only available when the cell has been executed in the\n",
              "      current browser session. Please rerun this cell to enable.\n",
              "      </output>\n",
              "      <script>// Copyright 2017 Google LLC\n",
              "//\n",
              "// Licensed under the Apache License, Version 2.0 (the \"License\");\n",
              "// you may not use this file except in compliance with the License.\n",
              "// You may obtain a copy of the License at\n",
              "//\n",
              "//      http://www.apache.org/licenses/LICENSE-2.0\n",
              "//\n",
              "// Unless required by applicable law or agreed to in writing, software\n",
              "// distributed under the License is distributed on an \"AS IS\" BASIS,\n",
              "// WITHOUT WARRANTIES OR CONDITIONS OF ANY KIND, either express or implied.\n",
              "// See the License for the specific language governing permissions and\n",
              "// limitations under the License.\n",
              "\n",
              "/**\n",
              " * @fileoverview Helpers for google.colab Python module.\n",
              " */\n",
              "(function(scope) {\n",
              "function span(text, styleAttributes = {}) {\n",
              "  const element = document.createElement('span');\n",
              "  element.textContent = text;\n",
              "  for (const key of Object.keys(styleAttributes)) {\n",
              "    element.style[key] = styleAttributes[key];\n",
              "  }\n",
              "  return element;\n",
              "}\n",
              "\n",
              "// Max number of bytes which will be uploaded at a time.\n",
              "const MAX_PAYLOAD_SIZE = 100 * 1024;\n",
              "\n",
              "function _uploadFiles(inputId, outputId) {\n",
              "  const steps = uploadFilesStep(inputId, outputId);\n",
              "  const outputElement = document.getElementById(outputId);\n",
              "  // Cache steps on the outputElement to make it available for the next call\n",
              "  // to uploadFilesContinue from Python.\n",
              "  outputElement.steps = steps;\n",
              "\n",
              "  return _uploadFilesContinue(outputId);\n",
              "}\n",
              "\n",
              "// This is roughly an async generator (not supported in the browser yet),\n",
              "// where there are multiple asynchronous steps and the Python side is going\n",
              "// to poll for completion of each step.\n",
              "// This uses a Promise to block the python side on completion of each step,\n",
              "// then passes the result of the previous step as the input to the next step.\n",
              "function _uploadFilesContinue(outputId) {\n",
              "  const outputElement = document.getElementById(outputId);\n",
              "  const steps = outputElement.steps;\n",
              "\n",
              "  const next = steps.next(outputElement.lastPromiseValue);\n",
              "  return Promise.resolve(next.value.promise).then((value) => {\n",
              "    // Cache the last promise value to make it available to the next\n",
              "    // step of the generator.\n",
              "    outputElement.lastPromiseValue = value;\n",
              "    return next.value.response;\n",
              "  });\n",
              "}\n",
              "\n",
              "/**\n",
              " * Generator function which is called between each async step of the upload\n",
              " * process.\n",
              " * @param {string} inputId Element ID of the input file picker element.\n",
              " * @param {string} outputId Element ID of the output display.\n",
              " * @return {!Iterable<!Object>} Iterable of next steps.\n",
              " */\n",
              "function* uploadFilesStep(inputId, outputId) {\n",
              "  const inputElement = document.getElementById(inputId);\n",
              "  inputElement.disabled = false;\n",
              "\n",
              "  const outputElement = document.getElementById(outputId);\n",
              "  outputElement.innerHTML = '';\n",
              "\n",
              "  const pickedPromise = new Promise((resolve) => {\n",
              "    inputElement.addEventListener('change', (e) => {\n",
              "      resolve(e.target.files);\n",
              "    });\n",
              "  });\n",
              "\n",
              "  const cancel = document.createElement('button');\n",
              "  inputElement.parentElement.appendChild(cancel);\n",
              "  cancel.textContent = 'Cancel upload';\n",
              "  const cancelPromise = new Promise((resolve) => {\n",
              "    cancel.onclick = () => {\n",
              "      resolve(null);\n",
              "    };\n",
              "  });\n",
              "\n",
              "  // Wait for the user to pick the files.\n",
              "  const files = yield {\n",
              "    promise: Promise.race([pickedPromise, cancelPromise]),\n",
              "    response: {\n",
              "      action: 'starting',\n",
              "    }\n",
              "  };\n",
              "\n",
              "  cancel.remove();\n",
              "\n",
              "  // Disable the input element since further picks are not allowed.\n",
              "  inputElement.disabled = true;\n",
              "\n",
              "  if (!files) {\n",
              "    return {\n",
              "      response: {\n",
              "        action: 'complete',\n",
              "      }\n",
              "    };\n",
              "  }\n",
              "\n",
              "  for (const file of files) {\n",
              "    const li = document.createElement('li');\n",
              "    li.append(span(file.name, {fontWeight: 'bold'}));\n",
              "    li.append(span(\n",
              "        `(${file.type || 'n/a'}) - ${file.size} bytes, ` +\n",
              "        `last modified: ${\n",
              "            file.lastModifiedDate ? file.lastModifiedDate.toLocaleDateString() :\n",
              "                                    'n/a'} - `));\n",
              "    const percent = span('0% done');\n",
              "    li.appendChild(percent);\n",
              "\n",
              "    outputElement.appendChild(li);\n",
              "\n",
              "    const fileDataPromise = new Promise((resolve) => {\n",
              "      const reader = new FileReader();\n",
              "      reader.onload = (e) => {\n",
              "        resolve(e.target.result);\n",
              "      };\n",
              "      reader.readAsArrayBuffer(file);\n",
              "    });\n",
              "    // Wait for the data to be ready.\n",
              "    let fileData = yield {\n",
              "      promise: fileDataPromise,\n",
              "      response: {\n",
              "        action: 'continue',\n",
              "      }\n",
              "    };\n",
              "\n",
              "    // Use a chunked sending to avoid message size limits. See b/62115660.\n",
              "    let position = 0;\n",
              "    do {\n",
              "      const length = Math.min(fileData.byteLength - position, MAX_PAYLOAD_SIZE);\n",
              "      const chunk = new Uint8Array(fileData, position, length);\n",
              "      position += length;\n",
              "\n",
              "      const base64 = btoa(String.fromCharCode.apply(null, chunk));\n",
              "      yield {\n",
              "        response: {\n",
              "          action: 'append',\n",
              "          file: file.name,\n",
              "          data: base64,\n",
              "        },\n",
              "      };\n",
              "\n",
              "      let percentDone = fileData.byteLength === 0 ?\n",
              "          100 :\n",
              "          Math.round((position / fileData.byteLength) * 100);\n",
              "      percent.textContent = `${percentDone}% done`;\n",
              "\n",
              "    } while (position < fileData.byteLength);\n",
              "  }\n",
              "\n",
              "  // All done.\n",
              "  yield {\n",
              "    response: {\n",
              "      action: 'complete',\n",
              "    }\n",
              "  };\n",
              "}\n",
              "\n",
              "scope.google = scope.google || {};\n",
              "scope.google.colab = scope.google.colab || {};\n",
              "scope.google.colab._files = {\n",
              "  _uploadFiles,\n",
              "  _uploadFilesContinue,\n",
              "};\n",
              "})(self);\n",
              "</script> "
            ]
          },
          "metadata": {}
        },
        {
          "output_type": "stream",
          "name": "stdout",
          "text": [
            "Saving kaggle.json to kaggle.json\n",
            "Downloading dataset: us-patent-phrase-to-phrase-matching\n",
            "Downloading us-patent-phrase-to-phrase-matching.zip to /content\n",
            "  0% 0.00/682k [00:00<?, ?B/s]\n",
            "100% 682k/682k [00:00<00:00, 16.7MB/s]\n",
            "Dataset extracted successfully!\n",
            "Extracted Files: ['train.csv', 'sample_submission.csv', 'test.csv']\n"
          ]
        }
      ]
    },
    {
      "cell_type": "markdown",
      "source": [
        "### Read data"
      ],
      "metadata": {
        "id": "U9uoNtTPD13z"
      },
      "id": "U9uoNtTPD13z"
    },
    {
      "cell_type": "code",
      "source": [
        "import numpy as np\n",
        "import pandas as pd\n",
        "\n",
        "def load_csv_data(dataset_name: str, csv_file: str = None):\n",
        "    \"\"\"\n",
        "    Loads CSV data from a given dataset directory.\n",
        "\n",
        "    Args:\n",
        "    dataset_name (str): The folder containing the dataset.\n",
        "    csv_file (str, optional): The specific CSV file to read (for chunked/efficient reading).\n",
        "\n",
        "    Returns:\n",
        "    train_df, test_df: train and test DataFrames.\n",
        "    \"\"\"\n",
        "    # TODO: (improve): check train, test, and other files based on filename check (regex) and return the dataset\n",
        "    print(\"Reading full train and test datasets...\")\n",
        "    train_df = pd.read_csv(f\"{dataset_name}/train.csv\")\n",
        "    test_df = pd.read_csv(f\"{dataset_name}/test.csv\")\n",
        "    return train_df, test_df\n",
        "\n",
        "# Usage:\n",
        "# Load full dataset\n",
        "train_df, test_df = load_csv_data(\"us-patent-phrase-to-phrase-matching\")\n",
        "train_df.info()"
      ],
      "metadata": {
        "id": "dBjQZBX1D3G1",
        "colab": {
          "base_uri": "https://localhost:8080/"
        },
        "outputId": "00ebc58c-43be-469f-9ab6-40426e1b81f5"
      },
      "id": "dBjQZBX1D3G1",
      "execution_count": 93,
      "outputs": [
        {
          "output_type": "stream",
          "name": "stdout",
          "text": [
            "Reading full train and test datasets...\n",
            "<class 'pandas.core.frame.DataFrame'>\n",
            "RangeIndex: 36473 entries, 0 to 36472\n",
            "Data columns (total 5 columns):\n",
            " #   Column   Non-Null Count  Dtype  \n",
            "---  ------   --------------  -----  \n",
            " 0   id       36473 non-null  object \n",
            " 1   anchor   36473 non-null  object \n",
            " 2   target   36473 non-null  object \n",
            " 3   context  36473 non-null  object \n",
            " 4   score    36473 non-null  float64\n",
            "dtypes: float64(1), object(4)\n",
            "memory usage: 1.4+ MB\n"
          ]
        }
      ]
    },
    {
      "cell_type": "code",
      "source": [
        "# only for development\n",
        "# Select 25% of the data\n",
        "train_df = train_df.sample(frac=0.05, random_state=42)\n",
        "\n",
        "# Reset index\n",
        "train_df = train_df.reset_index(drop=True)"
      ],
      "metadata": {
        "id": "M_9D1ukd1SK-"
      },
      "id": "M_9D1ukd1SK-",
      "execution_count": 94,
      "outputs": []
    },
    {
      "cell_type": "markdown",
      "id": "04d27700",
      "metadata": {
        "papermill": {
          "duration": 0.096057,
          "end_time": "2022-05-16T23:18:22.452686",
          "exception": false,
          "start_time": "2022-05-16T23:18:22.356629",
          "status": "completed"
        },
        "tags": [],
        "id": "04d27700"
      },
      "source": [
        "# Understanding Data"
      ]
    },
    {
      "cell_type": "code",
      "execution_count": 48,
      "id": "4b298ff1",
      "metadata": {
        "execution": {
          "iopub.execute_input": "2022-05-16T23:18:33.700493Z",
          "iopub.status.busy": "2022-05-16T23:18:33.699888Z",
          "iopub.status.idle": "2022-05-16T23:18:33.715083Z",
          "shell.execute_reply": "2022-05-16T23:18:33.715531Z",
          "shell.execute_reply.started": "2022-04-19T22:50:25.122204Z"
        },
        "papermill": {
          "duration": 0.114426,
          "end_time": "2022-05-16T23:18:33.715685",
          "exception": false,
          "start_time": "2022-05-16T23:18:33.601259",
          "status": "completed"
        },
        "tags": [],
        "id": "4b298ff1",
        "colab": {
          "base_uri": "https://localhost:8080/",
          "height": 206
        },
        "outputId": "644595a1-3a52-48da-e54f-c6451d00774a"
      },
      "outputs": [
        {
          "output_type": "execute_result",
          "data": {
            "text/plain": [
              "                 id                             anchor               target  \\\n",
              "0  ed1c4e525eb105fe                     transmit alarm    display indicator   \n",
              "1  5386316f318f5221                  locking formation    retaining element   \n",
              "2  1544ca6753fcbddd                      lateral power           transducer   \n",
              "3  f9d8979b94cec923                      spreader body             spreader   \n",
              "4  e151ca5ea5cc0f08  high gradient magnetic separators  magnetic filtration   \n",
              "\n",
              "  context  score  \n",
              "0     G08   0.00  \n",
              "1     B60   0.25  \n",
              "2     H01   0.25  \n",
              "3     A01   0.75  \n",
              "4     B03   0.50  "
            ],
            "text/html": [
              "\n",
              "  <div id=\"df-8b4cd18c-2586-4946-9ee9-b4e427c1d209\" class=\"colab-df-container\">\n",
              "    <div>\n",
              "<style scoped>\n",
              "    .dataframe tbody tr th:only-of-type {\n",
              "        vertical-align: middle;\n",
              "    }\n",
              "\n",
              "    .dataframe tbody tr th {\n",
              "        vertical-align: top;\n",
              "    }\n",
              "\n",
              "    .dataframe thead th {\n",
              "        text-align: right;\n",
              "    }\n",
              "</style>\n",
              "<table border=\"1\" class=\"dataframe\">\n",
              "  <thead>\n",
              "    <tr style=\"text-align: right;\">\n",
              "      <th></th>\n",
              "      <th>id</th>\n",
              "      <th>anchor</th>\n",
              "      <th>target</th>\n",
              "      <th>context</th>\n",
              "      <th>score</th>\n",
              "    </tr>\n",
              "  </thead>\n",
              "  <tbody>\n",
              "    <tr>\n",
              "      <th>0</th>\n",
              "      <td>ed1c4e525eb105fe</td>\n",
              "      <td>transmit alarm</td>\n",
              "      <td>display indicator</td>\n",
              "      <td>G08</td>\n",
              "      <td>0.00</td>\n",
              "    </tr>\n",
              "    <tr>\n",
              "      <th>1</th>\n",
              "      <td>5386316f318f5221</td>\n",
              "      <td>locking formation</td>\n",
              "      <td>retaining element</td>\n",
              "      <td>B60</td>\n",
              "      <td>0.25</td>\n",
              "    </tr>\n",
              "    <tr>\n",
              "      <th>2</th>\n",
              "      <td>1544ca6753fcbddd</td>\n",
              "      <td>lateral power</td>\n",
              "      <td>transducer</td>\n",
              "      <td>H01</td>\n",
              "      <td>0.25</td>\n",
              "    </tr>\n",
              "    <tr>\n",
              "      <th>3</th>\n",
              "      <td>f9d8979b94cec923</td>\n",
              "      <td>spreader body</td>\n",
              "      <td>spreader</td>\n",
              "      <td>A01</td>\n",
              "      <td>0.75</td>\n",
              "    </tr>\n",
              "    <tr>\n",
              "      <th>4</th>\n",
              "      <td>e151ca5ea5cc0f08</td>\n",
              "      <td>high gradient magnetic separators</td>\n",
              "      <td>magnetic filtration</td>\n",
              "      <td>B03</td>\n",
              "      <td>0.50</td>\n",
              "    </tr>\n",
              "  </tbody>\n",
              "</table>\n",
              "</div>\n",
              "    <div class=\"colab-df-buttons\">\n",
              "\n",
              "  <div class=\"colab-df-container\">\n",
              "    <button class=\"colab-df-convert\" onclick=\"convertToInteractive('df-8b4cd18c-2586-4946-9ee9-b4e427c1d209')\"\n",
              "            title=\"Convert this dataframe to an interactive table.\"\n",
              "            style=\"display:none;\">\n",
              "\n",
              "  <svg xmlns=\"http://www.w3.org/2000/svg\" height=\"24px\" viewBox=\"0 -960 960 960\">\n",
              "    <path d=\"M120-120v-720h720v720H120Zm60-500h600v-160H180v160Zm220 220h160v-160H400v160Zm0 220h160v-160H400v160ZM180-400h160v-160H180v160Zm440 0h160v-160H620v160ZM180-180h160v-160H180v160Zm440 0h160v-160H620v160Z\"/>\n",
              "  </svg>\n",
              "    </button>\n",
              "\n",
              "  <style>\n",
              "    .colab-df-container {\n",
              "      display:flex;\n",
              "      gap: 12px;\n",
              "    }\n",
              "\n",
              "    .colab-df-convert {\n",
              "      background-color: #E8F0FE;\n",
              "      border: none;\n",
              "      border-radius: 50%;\n",
              "      cursor: pointer;\n",
              "      display: none;\n",
              "      fill: #1967D2;\n",
              "      height: 32px;\n",
              "      padding: 0 0 0 0;\n",
              "      width: 32px;\n",
              "    }\n",
              "\n",
              "    .colab-df-convert:hover {\n",
              "      background-color: #E2EBFA;\n",
              "      box-shadow: 0px 1px 2px rgba(60, 64, 67, 0.3), 0px 1px 3px 1px rgba(60, 64, 67, 0.15);\n",
              "      fill: #174EA6;\n",
              "    }\n",
              "\n",
              "    .colab-df-buttons div {\n",
              "      margin-bottom: 4px;\n",
              "    }\n",
              "\n",
              "    [theme=dark] .colab-df-convert {\n",
              "      background-color: #3B4455;\n",
              "      fill: #D2E3FC;\n",
              "    }\n",
              "\n",
              "    [theme=dark] .colab-df-convert:hover {\n",
              "      background-color: #434B5C;\n",
              "      box-shadow: 0px 1px 3px 1px rgba(0, 0, 0, 0.15);\n",
              "      filter: drop-shadow(0px 1px 2px rgba(0, 0, 0, 0.3));\n",
              "      fill: #FFFFFF;\n",
              "    }\n",
              "  </style>\n",
              "\n",
              "    <script>\n",
              "      const buttonEl =\n",
              "        document.querySelector('#df-8b4cd18c-2586-4946-9ee9-b4e427c1d209 button.colab-df-convert');\n",
              "      buttonEl.style.display =\n",
              "        google.colab.kernel.accessAllowed ? 'block' : 'none';\n",
              "\n",
              "      async function convertToInteractive(key) {\n",
              "        const element = document.querySelector('#df-8b4cd18c-2586-4946-9ee9-b4e427c1d209');\n",
              "        const dataTable =\n",
              "          await google.colab.kernel.invokeFunction('convertToInteractive',\n",
              "                                                    [key], {});\n",
              "        if (!dataTable) return;\n",
              "\n",
              "        const docLinkHtml = 'Like what you see? Visit the ' +\n",
              "          '<a target=\"_blank\" href=https://colab.research.google.com/notebooks/data_table.ipynb>data table notebook</a>'\n",
              "          + ' to learn more about interactive tables.';\n",
              "        element.innerHTML = '';\n",
              "        dataTable['output_type'] = 'display_data';\n",
              "        await google.colab.output.renderOutput(dataTable, element);\n",
              "        const docLink = document.createElement('div');\n",
              "        docLink.innerHTML = docLinkHtml;\n",
              "        element.appendChild(docLink);\n",
              "      }\n",
              "    </script>\n",
              "  </div>\n",
              "\n",
              "\n",
              "<div id=\"df-ae6dcd4d-b292-4a32-9a2b-65044d23b324\">\n",
              "  <button class=\"colab-df-quickchart\" onclick=\"quickchart('df-ae6dcd4d-b292-4a32-9a2b-65044d23b324')\"\n",
              "            title=\"Suggest charts\"\n",
              "            style=\"display:none;\">\n",
              "\n",
              "<svg xmlns=\"http://www.w3.org/2000/svg\" height=\"24px\"viewBox=\"0 0 24 24\"\n",
              "     width=\"24px\">\n",
              "    <g>\n",
              "        <path d=\"M19 3H5c-1.1 0-2 .9-2 2v14c0 1.1.9 2 2 2h14c1.1 0 2-.9 2-2V5c0-1.1-.9-2-2-2zM9 17H7v-7h2v7zm4 0h-2V7h2v10zm4 0h-2v-4h2v4z\"/>\n",
              "    </g>\n",
              "</svg>\n",
              "  </button>\n",
              "\n",
              "<style>\n",
              "  .colab-df-quickchart {\n",
              "      --bg-color: #E8F0FE;\n",
              "      --fill-color: #1967D2;\n",
              "      --hover-bg-color: #E2EBFA;\n",
              "      --hover-fill-color: #174EA6;\n",
              "      --disabled-fill-color: #AAA;\n",
              "      --disabled-bg-color: #DDD;\n",
              "  }\n",
              "\n",
              "  [theme=dark] .colab-df-quickchart {\n",
              "      --bg-color: #3B4455;\n",
              "      --fill-color: #D2E3FC;\n",
              "      --hover-bg-color: #434B5C;\n",
              "      --hover-fill-color: #FFFFFF;\n",
              "      --disabled-bg-color: #3B4455;\n",
              "      --disabled-fill-color: #666;\n",
              "  }\n",
              "\n",
              "  .colab-df-quickchart {\n",
              "    background-color: var(--bg-color);\n",
              "    border: none;\n",
              "    border-radius: 50%;\n",
              "    cursor: pointer;\n",
              "    display: none;\n",
              "    fill: var(--fill-color);\n",
              "    height: 32px;\n",
              "    padding: 0;\n",
              "    width: 32px;\n",
              "  }\n",
              "\n",
              "  .colab-df-quickchart:hover {\n",
              "    background-color: var(--hover-bg-color);\n",
              "    box-shadow: 0 1px 2px rgba(60, 64, 67, 0.3), 0 1px 3px 1px rgba(60, 64, 67, 0.15);\n",
              "    fill: var(--button-hover-fill-color);\n",
              "  }\n",
              "\n",
              "  .colab-df-quickchart-complete:disabled,\n",
              "  .colab-df-quickchart-complete:disabled:hover {\n",
              "    background-color: var(--disabled-bg-color);\n",
              "    fill: var(--disabled-fill-color);\n",
              "    box-shadow: none;\n",
              "  }\n",
              "\n",
              "  .colab-df-spinner {\n",
              "    border: 2px solid var(--fill-color);\n",
              "    border-color: transparent;\n",
              "    border-bottom-color: var(--fill-color);\n",
              "    animation:\n",
              "      spin 1s steps(1) infinite;\n",
              "  }\n",
              "\n",
              "  @keyframes spin {\n",
              "    0% {\n",
              "      border-color: transparent;\n",
              "      border-bottom-color: var(--fill-color);\n",
              "      border-left-color: var(--fill-color);\n",
              "    }\n",
              "    20% {\n",
              "      border-color: transparent;\n",
              "      border-left-color: var(--fill-color);\n",
              "      border-top-color: var(--fill-color);\n",
              "    }\n",
              "    30% {\n",
              "      border-color: transparent;\n",
              "      border-left-color: var(--fill-color);\n",
              "      border-top-color: var(--fill-color);\n",
              "      border-right-color: var(--fill-color);\n",
              "    }\n",
              "    40% {\n",
              "      border-color: transparent;\n",
              "      border-right-color: var(--fill-color);\n",
              "      border-top-color: var(--fill-color);\n",
              "    }\n",
              "    60% {\n",
              "      border-color: transparent;\n",
              "      border-right-color: var(--fill-color);\n",
              "    }\n",
              "    80% {\n",
              "      border-color: transparent;\n",
              "      border-right-color: var(--fill-color);\n",
              "      border-bottom-color: var(--fill-color);\n",
              "    }\n",
              "    90% {\n",
              "      border-color: transparent;\n",
              "      border-bottom-color: var(--fill-color);\n",
              "    }\n",
              "  }\n",
              "</style>\n",
              "\n",
              "  <script>\n",
              "    async function quickchart(key) {\n",
              "      const quickchartButtonEl =\n",
              "        document.querySelector('#' + key + ' button');\n",
              "      quickchartButtonEl.disabled = true;  // To prevent multiple clicks.\n",
              "      quickchartButtonEl.classList.add('colab-df-spinner');\n",
              "      try {\n",
              "        const charts = await google.colab.kernel.invokeFunction(\n",
              "            'suggestCharts', [key], {});\n",
              "      } catch (error) {\n",
              "        console.error('Error during call to suggestCharts:', error);\n",
              "      }\n",
              "      quickchartButtonEl.classList.remove('colab-df-spinner');\n",
              "      quickchartButtonEl.classList.add('colab-df-quickchart-complete');\n",
              "    }\n",
              "    (() => {\n",
              "      let quickchartButtonEl =\n",
              "        document.querySelector('#df-ae6dcd4d-b292-4a32-9a2b-65044d23b324 button');\n",
              "      quickchartButtonEl.style.display =\n",
              "        google.colab.kernel.accessAllowed ? 'block' : 'none';\n",
              "    })();\n",
              "  </script>\n",
              "</div>\n",
              "\n",
              "    </div>\n",
              "  </div>\n"
            ],
            "application/vnd.google.colaboratory.intrinsic+json": {
              "type": "dataframe",
              "variable_name": "train_df",
              "summary": "{\n  \"name\": \"train_df\",\n  \"rows\": 9118,\n  \"fields\": [\n    {\n      \"column\": \"id\",\n      \"properties\": {\n        \"dtype\": \"string\",\n        \"num_unique_values\": 9118,\n        \"samples\": [\n          \"8433d03287aa1ff3\",\n          \"489cf1fec910952e\",\n          \"1fd75c4120ff25de\"\n        ],\n        \"semantic_type\": \"\",\n        \"description\": \"\"\n      }\n    },\n    {\n      \"column\": \"anchor\",\n      \"properties\": {\n        \"dtype\": \"category\",\n        \"num_unique_values\": 729,\n        \"samples\": [\n          \"high frequency welding\",\n          \"apart elongated\",\n          \"diesel fuel tank\"\n        ],\n        \"semantic_type\": \"\",\n        \"description\": \"\"\n      }\n    },\n    {\n      \"column\": \"target\",\n      \"properties\": {\n        \"dtype\": \"string\",\n        \"num_unique_values\": 8412,\n        \"samples\": [\n          \"threshold\",\n          \"animal vegetable fats\",\n          \"more hydrogen atoms\"\n        ],\n        \"semantic_type\": \"\",\n        \"description\": \"\"\n      }\n    },\n    {\n      \"column\": \"context\",\n      \"properties\": {\n        \"dtype\": \"category\",\n        \"num_unique_values\": 106,\n        \"samples\": [\n          \"C23\",\n          \"G04\",\n          \"B03\"\n        ],\n        \"semantic_type\": \"\",\n        \"description\": \"\"\n      }\n    },\n    {\n      \"column\": \"score\",\n      \"properties\": {\n        \"dtype\": \"number\",\n        \"std\": 0.2585216357942591,\n        \"min\": 0.0,\n        \"max\": 1.0,\n        \"num_unique_values\": 5,\n        \"samples\": [\n          0.25,\n          1.0,\n          0.75\n        ],\n        \"semantic_type\": \"\",\n        \"description\": \"\"\n      }\n    }\n  ]\n}"
            }
          },
          "metadata": {},
          "execution_count": 48
        }
      ],
      "source": [
        "train_df.head()"
      ]
    },
    {
      "cell_type": "markdown",
      "id": "14efc19d",
      "metadata": {
        "papermill": {
          "duration": 0.087104,
          "end_time": "2022-05-16T23:18:33.890429",
          "exception": false,
          "start_time": "2022-05-16T23:18:33.803325",
          "status": "completed"
        },
        "tags": [],
        "id": "14efc19d"
      },
      "source": [
        "* id - a unique identifier for a pair of phrases\n",
        "* anchor - the first phrase\n",
        "* target - the second phrase\n",
        "* context - the CPC classification (version 2021.05), which indicates the subject within which the similarity is to be scored\n",
        "* score - the similarity. This is sourced from a combination of one or more manual expert ratings."
      ]
    },
    {
      "cell_type": "code",
      "execution_count": 95,
      "id": "21982274",
      "metadata": {
        "execution": {
          "iopub.execute_input": "2022-05-16T23:18:34.098355Z",
          "iopub.status.busy": "2022-05-16T23:18:34.097454Z",
          "iopub.status.idle": "2022-05-16T23:18:34.145806Z",
          "shell.execute_reply": "2022-05-16T23:18:34.146201Z",
          "shell.execute_reply.started": "2022-04-19T22:50:25.149735Z"
        },
        "papermill": {
          "duration": 0.16831,
          "end_time": "2022-05-16T23:18:34.146345",
          "exception": false,
          "start_time": "2022-05-16T23:18:33.978035",
          "status": "completed"
        },
        "tags": [],
        "id": "21982274",
        "outputId": "2ab584c2-a07d-4605-94c1-e38e4f39bc3f",
        "colab": {
          "base_uri": "https://localhost:8080/",
          "height": 174
        }
      },
      "outputs": [
        {
          "output_type": "execute_result",
          "data": {
            "text/plain": [
              "                      id                       anchor     target context\n",
              "count               1824                         1824       1824    1824\n",
              "unique              1824                          618       1771     105\n",
              "top     ed1c4e525eb105fe  component composite coating  reduction     H04\n",
              "freq                   1                           15          4     100"
            ],
            "text/html": [
              "\n",
              "  <div id=\"df-eeee6fdb-5549-4d1a-8607-8f17d2e68507\" class=\"colab-df-container\">\n",
              "    <div>\n",
              "<style scoped>\n",
              "    .dataframe tbody tr th:only-of-type {\n",
              "        vertical-align: middle;\n",
              "    }\n",
              "\n",
              "    .dataframe tbody tr th {\n",
              "        vertical-align: top;\n",
              "    }\n",
              "\n",
              "    .dataframe thead th {\n",
              "        text-align: right;\n",
              "    }\n",
              "</style>\n",
              "<table border=\"1\" class=\"dataframe\">\n",
              "  <thead>\n",
              "    <tr style=\"text-align: right;\">\n",
              "      <th></th>\n",
              "      <th>id</th>\n",
              "      <th>anchor</th>\n",
              "      <th>target</th>\n",
              "      <th>context</th>\n",
              "    </tr>\n",
              "  </thead>\n",
              "  <tbody>\n",
              "    <tr>\n",
              "      <th>count</th>\n",
              "      <td>1824</td>\n",
              "      <td>1824</td>\n",
              "      <td>1824</td>\n",
              "      <td>1824</td>\n",
              "    </tr>\n",
              "    <tr>\n",
              "      <th>unique</th>\n",
              "      <td>1824</td>\n",
              "      <td>618</td>\n",
              "      <td>1771</td>\n",
              "      <td>105</td>\n",
              "    </tr>\n",
              "    <tr>\n",
              "      <th>top</th>\n",
              "      <td>ed1c4e525eb105fe</td>\n",
              "      <td>component composite coating</td>\n",
              "      <td>reduction</td>\n",
              "      <td>H04</td>\n",
              "    </tr>\n",
              "    <tr>\n",
              "      <th>freq</th>\n",
              "      <td>1</td>\n",
              "      <td>15</td>\n",
              "      <td>4</td>\n",
              "      <td>100</td>\n",
              "    </tr>\n",
              "  </tbody>\n",
              "</table>\n",
              "</div>\n",
              "    <div class=\"colab-df-buttons\">\n",
              "\n",
              "  <div class=\"colab-df-container\">\n",
              "    <button class=\"colab-df-convert\" onclick=\"convertToInteractive('df-eeee6fdb-5549-4d1a-8607-8f17d2e68507')\"\n",
              "            title=\"Convert this dataframe to an interactive table.\"\n",
              "            style=\"display:none;\">\n",
              "\n",
              "  <svg xmlns=\"http://www.w3.org/2000/svg\" height=\"24px\" viewBox=\"0 -960 960 960\">\n",
              "    <path d=\"M120-120v-720h720v720H120Zm60-500h600v-160H180v160Zm220 220h160v-160H400v160Zm0 220h160v-160H400v160ZM180-400h160v-160H180v160Zm440 0h160v-160H620v160ZM180-180h160v-160H180v160Zm440 0h160v-160H620v160Z\"/>\n",
              "  </svg>\n",
              "    </button>\n",
              "\n",
              "  <style>\n",
              "    .colab-df-container {\n",
              "      display:flex;\n",
              "      gap: 12px;\n",
              "    }\n",
              "\n",
              "    .colab-df-convert {\n",
              "      background-color: #E8F0FE;\n",
              "      border: none;\n",
              "      border-radius: 50%;\n",
              "      cursor: pointer;\n",
              "      display: none;\n",
              "      fill: #1967D2;\n",
              "      height: 32px;\n",
              "      padding: 0 0 0 0;\n",
              "      width: 32px;\n",
              "    }\n",
              "\n",
              "    .colab-df-convert:hover {\n",
              "      background-color: #E2EBFA;\n",
              "      box-shadow: 0px 1px 2px rgba(60, 64, 67, 0.3), 0px 1px 3px 1px rgba(60, 64, 67, 0.15);\n",
              "      fill: #174EA6;\n",
              "    }\n",
              "\n",
              "    .colab-df-buttons div {\n",
              "      margin-bottom: 4px;\n",
              "    }\n",
              "\n",
              "    [theme=dark] .colab-df-convert {\n",
              "      background-color: #3B4455;\n",
              "      fill: #D2E3FC;\n",
              "    }\n",
              "\n",
              "    [theme=dark] .colab-df-convert:hover {\n",
              "      background-color: #434B5C;\n",
              "      box-shadow: 0px 1px 3px 1px rgba(0, 0, 0, 0.15);\n",
              "      filter: drop-shadow(0px 1px 2px rgba(0, 0, 0, 0.3));\n",
              "      fill: #FFFFFF;\n",
              "    }\n",
              "  </style>\n",
              "\n",
              "    <script>\n",
              "      const buttonEl =\n",
              "        document.querySelector('#df-eeee6fdb-5549-4d1a-8607-8f17d2e68507 button.colab-df-convert');\n",
              "      buttonEl.style.display =\n",
              "        google.colab.kernel.accessAllowed ? 'block' : 'none';\n",
              "\n",
              "      async function convertToInteractive(key) {\n",
              "        const element = document.querySelector('#df-eeee6fdb-5549-4d1a-8607-8f17d2e68507');\n",
              "        const dataTable =\n",
              "          await google.colab.kernel.invokeFunction('convertToInteractive',\n",
              "                                                    [key], {});\n",
              "        if (!dataTable) return;\n",
              "\n",
              "        const docLinkHtml = 'Like what you see? Visit the ' +\n",
              "          '<a target=\"_blank\" href=https://colab.research.google.com/notebooks/data_table.ipynb>data table notebook</a>'\n",
              "          + ' to learn more about interactive tables.';\n",
              "        element.innerHTML = '';\n",
              "        dataTable['output_type'] = 'display_data';\n",
              "        await google.colab.output.renderOutput(dataTable, element);\n",
              "        const docLink = document.createElement('div');\n",
              "        docLink.innerHTML = docLinkHtml;\n",
              "        element.appendChild(docLink);\n",
              "      }\n",
              "    </script>\n",
              "  </div>\n",
              "\n",
              "\n",
              "<div id=\"df-17d3c59d-e579-4dbe-ba5e-93ffa366e02d\">\n",
              "  <button class=\"colab-df-quickchart\" onclick=\"quickchart('df-17d3c59d-e579-4dbe-ba5e-93ffa366e02d')\"\n",
              "            title=\"Suggest charts\"\n",
              "            style=\"display:none;\">\n",
              "\n",
              "<svg xmlns=\"http://www.w3.org/2000/svg\" height=\"24px\"viewBox=\"0 0 24 24\"\n",
              "     width=\"24px\">\n",
              "    <g>\n",
              "        <path d=\"M19 3H5c-1.1 0-2 .9-2 2v14c0 1.1.9 2 2 2h14c1.1 0 2-.9 2-2V5c0-1.1-.9-2-2-2zM9 17H7v-7h2v7zm4 0h-2V7h2v10zm4 0h-2v-4h2v4z\"/>\n",
              "    </g>\n",
              "</svg>\n",
              "  </button>\n",
              "\n",
              "<style>\n",
              "  .colab-df-quickchart {\n",
              "      --bg-color: #E8F0FE;\n",
              "      --fill-color: #1967D2;\n",
              "      --hover-bg-color: #E2EBFA;\n",
              "      --hover-fill-color: #174EA6;\n",
              "      --disabled-fill-color: #AAA;\n",
              "      --disabled-bg-color: #DDD;\n",
              "  }\n",
              "\n",
              "  [theme=dark] .colab-df-quickchart {\n",
              "      --bg-color: #3B4455;\n",
              "      --fill-color: #D2E3FC;\n",
              "      --hover-bg-color: #434B5C;\n",
              "      --hover-fill-color: #FFFFFF;\n",
              "      --disabled-bg-color: #3B4455;\n",
              "      --disabled-fill-color: #666;\n",
              "  }\n",
              "\n",
              "  .colab-df-quickchart {\n",
              "    background-color: var(--bg-color);\n",
              "    border: none;\n",
              "    border-radius: 50%;\n",
              "    cursor: pointer;\n",
              "    display: none;\n",
              "    fill: var(--fill-color);\n",
              "    height: 32px;\n",
              "    padding: 0;\n",
              "    width: 32px;\n",
              "  }\n",
              "\n",
              "  .colab-df-quickchart:hover {\n",
              "    background-color: var(--hover-bg-color);\n",
              "    box-shadow: 0 1px 2px rgba(60, 64, 67, 0.3), 0 1px 3px 1px rgba(60, 64, 67, 0.15);\n",
              "    fill: var(--button-hover-fill-color);\n",
              "  }\n",
              "\n",
              "  .colab-df-quickchart-complete:disabled,\n",
              "  .colab-df-quickchart-complete:disabled:hover {\n",
              "    background-color: var(--disabled-bg-color);\n",
              "    fill: var(--disabled-fill-color);\n",
              "    box-shadow: none;\n",
              "  }\n",
              "\n",
              "  .colab-df-spinner {\n",
              "    border: 2px solid var(--fill-color);\n",
              "    border-color: transparent;\n",
              "    border-bottom-color: var(--fill-color);\n",
              "    animation:\n",
              "      spin 1s steps(1) infinite;\n",
              "  }\n",
              "\n",
              "  @keyframes spin {\n",
              "    0% {\n",
              "      border-color: transparent;\n",
              "      border-bottom-color: var(--fill-color);\n",
              "      border-left-color: var(--fill-color);\n",
              "    }\n",
              "    20% {\n",
              "      border-color: transparent;\n",
              "      border-left-color: var(--fill-color);\n",
              "      border-top-color: var(--fill-color);\n",
              "    }\n",
              "    30% {\n",
              "      border-color: transparent;\n",
              "      border-left-color: var(--fill-color);\n",
              "      border-top-color: var(--fill-color);\n",
              "      border-right-color: var(--fill-color);\n",
              "    }\n",
              "    40% {\n",
              "      border-color: transparent;\n",
              "      border-right-color: var(--fill-color);\n",
              "      border-top-color: var(--fill-color);\n",
              "    }\n",
              "    60% {\n",
              "      border-color: transparent;\n",
              "      border-right-color: var(--fill-color);\n",
              "    }\n",
              "    80% {\n",
              "      border-color: transparent;\n",
              "      border-right-color: var(--fill-color);\n",
              "      border-bottom-color: var(--fill-color);\n",
              "    }\n",
              "    90% {\n",
              "      border-color: transparent;\n",
              "      border-bottom-color: var(--fill-color);\n",
              "    }\n",
              "  }\n",
              "</style>\n",
              "\n",
              "  <script>\n",
              "    async function quickchart(key) {\n",
              "      const quickchartButtonEl =\n",
              "        document.querySelector('#' + key + ' button');\n",
              "      quickchartButtonEl.disabled = true;  // To prevent multiple clicks.\n",
              "      quickchartButtonEl.classList.add('colab-df-spinner');\n",
              "      try {\n",
              "        const charts = await google.colab.kernel.invokeFunction(\n",
              "            'suggestCharts', [key], {});\n",
              "      } catch (error) {\n",
              "        console.error('Error during call to suggestCharts:', error);\n",
              "      }\n",
              "      quickchartButtonEl.classList.remove('colab-df-spinner');\n",
              "      quickchartButtonEl.classList.add('colab-df-quickchart-complete');\n",
              "    }\n",
              "    (() => {\n",
              "      let quickchartButtonEl =\n",
              "        document.querySelector('#df-17d3c59d-e579-4dbe-ba5e-93ffa366e02d button');\n",
              "      quickchartButtonEl.style.display =\n",
              "        google.colab.kernel.accessAllowed ? 'block' : 'none';\n",
              "    })();\n",
              "  </script>\n",
              "</div>\n",
              "\n",
              "    </div>\n",
              "  </div>\n"
            ],
            "application/vnd.google.colaboratory.intrinsic+json": {
              "type": "dataframe",
              "summary": "{\n  \"name\": \"train_df\",\n  \"rows\": 4,\n  \"fields\": [\n    {\n      \"column\": \"id\",\n      \"properties\": {\n        \"dtype\": \"string\",\n        \"num_unique_values\": 3,\n        \"samples\": [\n          \"1824\",\n          \"ed1c4e525eb105fe\",\n          \"1\"\n        ],\n        \"semantic_type\": \"\",\n        \"description\": \"\"\n      }\n    },\n    {\n      \"column\": \"anchor\",\n      \"properties\": {\n        \"dtype\": \"string\",\n        \"num_unique_values\": 4,\n        \"samples\": [\n          618,\n          \"15\",\n          \"1824\"\n        ],\n        \"semantic_type\": \"\",\n        \"description\": \"\"\n      }\n    },\n    {\n      \"column\": \"target\",\n      \"properties\": {\n        \"dtype\": \"string\",\n        \"num_unique_values\": 4,\n        \"samples\": [\n          1771,\n          \"4\",\n          \"1824\"\n        ],\n        \"semantic_type\": \"\",\n        \"description\": \"\"\n      }\n    },\n    {\n      \"column\": \"context\",\n      \"properties\": {\n        \"dtype\": \"string\",\n        \"num_unique_values\": 4,\n        \"samples\": [\n          105,\n          \"100\",\n          \"1824\"\n        ],\n        \"semantic_type\": \"\",\n        \"description\": \"\"\n      }\n    }\n  ]\n}"
            }
          },
          "metadata": {},
          "execution_count": 95
        }
      ],
      "source": [
        "train_df.describe(include='object')"
      ]
    },
    {
      "cell_type": "markdown",
      "source": [
        "### Task formulation\n",
        "\n",
        "Since the semantic similarity task can be categorized as a classification problem, I will use a classification modeling approach. The input format I am using is:\n",
        "\n",
        "\"TEXT1: [context text]; TEXT2: [target text]\" → Choose a category: \"Different, Similar, Identical\""
      ],
      "metadata": {
        "id": "i2Ea5Gw-w8MO"
      },
      "id": "i2Ea5Gw-w8MO"
    },
    {
      "cell_type": "code",
      "execution_count": 96,
      "id": "d950dfad",
      "metadata": {
        "execution": {
          "iopub.execute_input": "2022-05-16T23:18:34.525187Z",
          "iopub.status.busy": "2022-05-16T23:18:34.509818Z",
          "iopub.status.idle": "2022-05-16T23:18:34.535058Z",
          "shell.execute_reply": "2022-05-16T23:18:34.534144Z",
          "shell.execute_reply.started": "2022-04-19T22:50:25.226549Z"
        },
        "papermill": {
          "duration": 0.123242,
          "end_time": "2022-05-16T23:18:34.535176",
          "exception": false,
          "start_time": "2022-05-16T23:18:34.411934",
          "status": "completed"
        },
        "tags": [],
        "id": "d950dfad",
        "colab": {
          "base_uri": "https://localhost:8080/",
          "height": 240
        },
        "outputId": "a5663f46-ca47-4594-8050-e23a854a46fc"
      },
      "outputs": [
        {
          "output_type": "execute_result",
          "data": {
            "text/plain": [
              "0    TEXT1: G08; TEXT2: display indicator; ANC1: tr...\n",
              "1    TEXT1: B60; TEXT2: retaining element; ANC1: lo...\n",
              "2    TEXT1: H01; TEXT2: transducer; ANC1: lateral p...\n",
              "3     TEXT1: A01; TEXT2: spreader; ANC1: spreader body\n",
              "4    TEXT1: B03; TEXT2: magnetic filtration; ANC1: ...\n",
              "Name: input, dtype: object"
            ],
            "text/html": [
              "<div>\n",
              "<style scoped>\n",
              "    .dataframe tbody tr th:only-of-type {\n",
              "        vertical-align: middle;\n",
              "    }\n",
              "\n",
              "    .dataframe tbody tr th {\n",
              "        vertical-align: top;\n",
              "    }\n",
              "\n",
              "    .dataframe thead th {\n",
              "        text-align: right;\n",
              "    }\n",
              "</style>\n",
              "<table border=\"1\" class=\"dataframe\">\n",
              "  <thead>\n",
              "    <tr style=\"text-align: right;\">\n",
              "      <th></th>\n",
              "      <th>input</th>\n",
              "    </tr>\n",
              "  </thead>\n",
              "  <tbody>\n",
              "    <tr>\n",
              "      <th>0</th>\n",
              "      <td>TEXT1: G08; TEXT2: display indicator; ANC1: tr...</td>\n",
              "    </tr>\n",
              "    <tr>\n",
              "      <th>1</th>\n",
              "      <td>TEXT1: B60; TEXT2: retaining element; ANC1: lo...</td>\n",
              "    </tr>\n",
              "    <tr>\n",
              "      <th>2</th>\n",
              "      <td>TEXT1: H01; TEXT2: transducer; ANC1: lateral p...</td>\n",
              "    </tr>\n",
              "    <tr>\n",
              "      <th>3</th>\n",
              "      <td>TEXT1: A01; TEXT2: spreader; ANC1: spreader body</td>\n",
              "    </tr>\n",
              "    <tr>\n",
              "      <th>4</th>\n",
              "      <td>TEXT1: B03; TEXT2: magnetic filtration; ANC1: ...</td>\n",
              "    </tr>\n",
              "  </tbody>\n",
              "</table>\n",
              "</div><br><label><b>dtype:</b> object</label>"
            ]
          },
          "metadata": {},
          "execution_count": 96
        }
      ],
      "source": [
        "train_df['input'] = 'TEXT1: ' + train_df.context + '; TEXT2: ' + train_df.target + '; ANC1: ' + train_df.anchor\n",
        "train_df.input.head()"
      ]
    },
    {
      "cell_type": "markdown",
      "id": "528ae2cf",
      "metadata": {
        "papermill": {
          "duration": 0.090197,
          "end_time": "2022-05-16T23:18:35.078246",
          "exception": false,
          "start_time": "2022-05-16T23:18:34.988049",
          "status": "completed"
        },
        "tags": [],
        "id": "528ae2cf"
      },
      "source": [
        "### Tokenization"
      ]
    },
    {
      "cell_type": "markdown",
      "id": "ff7d7a2a",
      "metadata": {
        "papermill": {
          "duration": 0.08786,
          "end_time": "2022-05-16T23:18:35.254344",
          "exception": false,
          "start_time": "2022-05-16T23:18:35.166484",
          "status": "completed"
        },
        "tags": [],
        "id": "ff7d7a2a"
      },
      "source": [
        "Using a `Dataset object` from the Hugging Face datasets library is one of the best ways to store and manage datasets for Transformers models."
      ]
    },
    {
      "cell_type": "code",
      "execution_count": 97,
      "id": "46fe2b83",
      "metadata": {
        "execution": {
          "iopub.execute_input": "2022-05-16T23:18:35.438352Z",
          "iopub.status.busy": "2022-05-16T23:18:35.437675Z",
          "iopub.status.idle": "2022-05-16T23:18:37.535196Z",
          "shell.execute_reply": "2022-05-16T23:18:37.534706Z",
          "shell.execute_reply.started": "2022-04-19T22:50:25.267906Z"
        },
        "papermill": {
          "duration": 2.190631,
          "end_time": "2022-05-16T23:18:37.535330",
          "exception": false,
          "start_time": "2022-05-16T23:18:35.344699",
          "status": "completed"
        },
        "tags": [],
        "id": "46fe2b83",
        "colab": {
          "base_uri": "https://localhost:8080/"
        },
        "outputId": "c61cbd12-e05b-4e3c-990f-63b2fb145697"
      },
      "outputs": [
        {
          "output_type": "execute_result",
          "data": {
            "text/plain": [
              "Dataset({\n",
              "    features: ['id', 'anchor', 'target', 'context', 'score', 'input'],\n",
              "    num_rows: 1824\n",
              "})"
            ]
          },
          "metadata": {},
          "execution_count": 97
        }
      ],
      "source": [
        "from datasets import Dataset, DatasetDict\n",
        "\n",
        "train_ds = Dataset.from_pandas(train_df)\n",
        "train_ds"
      ]
    },
    {
      "cell_type": "markdown",
      "id": "73bff7b1",
      "metadata": {
        "papermill": {
          "duration": 0.090915,
          "end_time": "2022-05-16T23:18:38.100934",
          "exception": false,
          "start_time": "2022-05-16T23:18:38.010019",
          "status": "completed"
        },
        "tags": [],
        "id": "73bff7b1"
      },
      "source": [
        "I use:\n",
        "\n",
        "* AutoTokenizer ensures efficient, error-free tokenization, and\n",
        "* microsoft/deberta-v3-small is a powerful, lightweight transformer model optimized for NLP tasks.\n",
        "\n",
        "This combination is ideal for fast, accurate, and scalable NLP applications!"
      ]
    },
    {
      "cell_type": "code",
      "execution_count": 68,
      "id": "94f04956",
      "metadata": {
        "execution": {
          "iopub.execute_input": "2022-05-16T23:18:38.291309Z",
          "iopub.status.busy": "2022-05-16T23:18:38.290399Z",
          "iopub.status.idle": "2022-05-16T23:18:38.292739Z",
          "shell.execute_reply": "2022-05-16T23:18:38.292199Z",
          "shell.execute_reply.started": "2022-04-19T22:50:27.345436Z"
        },
        "papermill": {
          "duration": 0.103204,
          "end_time": "2022-05-16T23:18:38.292884",
          "exception": false,
          "start_time": "2022-05-16T23:18:38.189680",
          "status": "completed"
        },
        "tags": [],
        "id": "94f04956"
      },
      "outputs": [],
      "source": [
        "model_nm = 'microsoft/deberta-v3-small'"
      ]
    },
    {
      "cell_type": "code",
      "execution_count": 98,
      "id": "9a7191a0",
      "metadata": {
        "execution": {
          "iopub.execute_input": "2022-05-16T23:18:38.655835Z",
          "iopub.status.busy": "2022-05-16T23:18:38.655114Z",
          "iopub.status.idle": "2022-05-16T23:18:44.932165Z",
          "shell.execute_reply": "2022-05-16T23:18:44.931194Z",
          "shell.execute_reply.started": "2022-04-19T22:50:27.353989Z"
        },
        "papermill": {
          "duration": 6.371289,
          "end_time": "2022-05-16T23:18:44.932308",
          "exception": false,
          "start_time": "2022-05-16T23:18:38.561019",
          "status": "completed"
        },
        "tags": [],
        "colab": {
          "base_uri": "https://localhost:8080/"
        },
        "id": "9a7191a0",
        "outputId": "4c4a0aa2-d508-4722-ed76-9d74b4f03a9a"
      },
      "outputs": [
        {
          "output_type": "stream",
          "name": "stderr",
          "text": [
            "/usr/local/lib/python3.11/dist-packages/transformers/convert_slow_tokenizer.py:561: UserWarning: The sentencepiece tokenizer that you are converting to a fast tokenizer uses the byte fallback option which is not implemented in the fast tokenizers. In practice this means that the fast version of the tokenizer can produce unknown tokens whereas the sentencepiece version would have converted these unknown tokens into a sequence of byte tokens matching the original piece of text.\n",
            "  warnings.warn(\n"
          ]
        }
      ],
      "source": [
        "# 17s = microsoft/deberta-v3-small\n",
        "from transformers import AutoModelForSequenceClassification, AutoTokenizer\n",
        "tokz = AutoTokenizer.from_pretrained(model_nm)"
      ]
    },
    {
      "cell_type": "markdown",
      "source": [
        "The tok_func function applies tokz(x[\"input\"]), where tokz is an instance of AutoTokenizer. Tokenizers in Hugging Face Transformers return a dictionary containing:\n",
        "\n",
        "* input_ids – Tokenized numerical representation of the text (word IDs from the model’s vocabulary).\n",
        "* token_type_ids – Used in sentence-pair tasks (e.g., Next Sentence Prediction). It distinguishes the first sentence from the second (not always needed).\n",
        "* attention_mask – Indicates which tokens should be attended to (1) and which are padding (0) (helps the model ignore padding tokens)."
      ],
      "metadata": {
        "id": "kGCm77WWumXh"
      },
      "id": "kGCm77WWumXh"
    },
    {
      "cell_type": "code",
      "execution_count": 99,
      "id": "5b4df894",
      "metadata": {
        "execution": {
          "iopub.execute_input": "2022-05-16T23:18:46.081044Z",
          "iopub.status.busy": "2022-05-16T23:18:46.079465Z",
          "iopub.status.idle": "2022-05-16T23:18:46.081698Z",
          "shell.execute_reply": "2022-05-16T23:18:46.082102Z",
          "shell.execute_reply.started": "2022-04-19T22:50:32.9125Z"
        },
        "papermill": {
          "duration": 0.098195,
          "end_time": "2022-05-16T23:18:46.082230",
          "exception": false,
          "start_time": "2022-05-16T23:18:45.984035",
          "status": "completed"
        },
        "tags": [],
        "id": "5b4df894",
        "colab": {
          "base_uri": "https://localhost:8080/",
          "height": 49,
          "referenced_widgets": [
            "a24f670ae7ce48f2b4db5b82d7789f34",
            "46cb04cc67644603ae2aac705f9ddd29",
            "d1bae8c6d0c6457486e5bae0f810dd6f",
            "c5041fca27a947f19e3346d57fc7162d",
            "b422ed1440fd4736b32de9aa68c4eee9",
            "728988c1654040779dcf8bc7ee175ab1",
            "3ab668f6e817491e9b692a53ac854fa7",
            "cab0cda0fc034b3eb9e8900514f616b5",
            "98bc779f83c54f65afa95d0815bcdccf",
            "ef68587bb589401e9c43dd3f03734510",
            "1266e034211845d5aecb1bc221ad7d8c"
          ]
        },
        "outputId": "dddd96c3-0a27-41b2-97b5-b13f8a82dca0"
      },
      "outputs": [
        {
          "output_type": "display_data",
          "data": {
            "text/plain": [
              "Map:   0%|          | 0/1824 [00:00<?, ? examples/s]"
            ],
            "application/vnd.jupyter.widget-view+json": {
              "version_major": 2,
              "version_minor": 0,
              "model_id": "a24f670ae7ce48f2b4db5b82d7789f34"
            }
          },
          "metadata": {}
        }
      ],
      "source": [
        "# adding numerical representations of text, which is required for training transformer models.\n",
        "# These extra columns enable proper model input during fine-tuning.\n",
        "def tok_func(x): return tokz(x[\"input\"])\n",
        "\n",
        "tok_ds = train_ds.map(tok_func, batched=True)"
      ]
    },
    {
      "cell_type": "markdown",
      "id": "0dd77a16",
      "metadata": {
        "papermill": {
          "duration": 0.094896,
          "end_time": "2022-05-16T23:18:54.222495",
          "exception": false,
          "start_time": "2022-05-16T23:18:54.127599",
          "status": "completed"
        },
        "tags": [],
        "id": "0dd77a16"
      },
      "source": [
        "This adds a new item to our dataset called `input_ids`. For instance, here is the input and IDs for the first row of our data:"
      ]
    },
    {
      "cell_type": "code",
      "execution_count": null,
      "id": "ef6401c5",
      "metadata": {
        "execution": {
          "iopub.execute_input": "2022-05-16T23:18:54.427236Z",
          "iopub.status.busy": "2022-05-16T23:18:54.426628Z",
          "iopub.status.idle": "2022-05-16T23:18:54.429396Z",
          "shell.execute_reply": "2022-05-16T23:18:54.429872Z",
          "shell.execute_reply.started": "2022-04-19T22:50:40.025726Z"
        },
        "papermill": {
          "duration": 0.10725,
          "end_time": "2022-05-16T23:18:54.430009",
          "exception": false,
          "start_time": "2022-05-16T23:18:54.322759",
          "status": "completed"
        },
        "tags": [],
        "id": "ef6401c5"
      },
      "outputs": [],
      "source": [
        "# row = tok_ds[0]\n",
        "# row['input'], row['input_ids']"
      ]
    },
    {
      "cell_type": "markdown",
      "id": "eb58e8bc",
      "metadata": {
        "papermill": {
          "duration": 0.105436,
          "end_time": "2022-05-16T23:18:55.050112",
          "exception": false,
          "start_time": "2022-05-16T23:18:54.944676",
          "status": "completed"
        },
        "tags": [],
        "id": "eb58e8bc"
      },
      "source": [
        "Finally, we need to prepare our labels. Transformers always assumes that your labels has the column name `labels`, but in our dataset it's currently `score`. Therefore, we need to rename it:"
      ]
    },
    {
      "cell_type": "code",
      "execution_count": 100,
      "id": "1872e8aa",
      "metadata": {
        "execution": {
          "iopub.execute_input": "2022-05-16T23:18:55.247145Z",
          "iopub.status.busy": "2022-05-16T23:18:55.246268Z",
          "iopub.status.idle": "2022-05-16T23:18:55.249927Z",
          "shell.execute_reply": "2022-05-16T23:18:55.249454Z",
          "shell.execute_reply.started": "2022-04-19T22:50:40.045156Z"
        },
        "papermill": {
          "duration": 0.101969,
          "end_time": "2022-05-16T23:18:55.250039",
          "exception": false,
          "start_time": "2022-05-16T23:18:55.148070",
          "status": "completed"
        },
        "tags": [],
        "id": "1872e8aa"
      },
      "outputs": [],
      "source": [
        "tok_ds = tok_ds.rename_columns({'score':'labels'})"
      ]
    },
    {
      "cell_type": "markdown",
      "id": "66c7a56c",
      "metadata": {
        "papermill": {
          "duration": 0.091929,
          "end_time": "2022-05-16T23:18:55.616679",
          "exception": false,
          "start_time": "2022-05-16T23:18:55.524750",
          "status": "completed"
        },
        "tags": [],
        "id": "66c7a56c"
      },
      "source": [
        "# Test and Validation Sets"
      ]
    },
    {
      "cell_type": "markdown",
      "id": "c80d0906",
      "metadata": {
        "heading_collapsed": true,
        "papermill": {
          "duration": 0.091766,
          "end_time": "2022-05-16T23:18:56.421195",
          "exception": false,
          "start_time": "2022-05-16T23:18:56.329429",
          "status": "completed"
        },
        "tags": [],
        "id": "c80d0906"
      },
      "source": [
        "### Validation set"
      ]
    },
    {
      "cell_type": "markdown",
      "id": "4789f92a",
      "metadata": {
        "hidden": true,
        "papermill": {
          "duration": 0.096446,
          "end_time": "2022-05-16T23:19:02.537038",
          "exception": false,
          "start_time": "2022-05-16T23:19:02.440592",
          "status": "completed"
        },
        "tags": [],
        "id": "4789f92a"
      },
      "source": [
        "Transformers uses a `DatasetDict` for holding your training and validation sets. To create one that contains 25% of our data for the validation set, and 75% for the training set, use `train_test_split`:"
      ]
    },
    {
      "cell_type": "code",
      "execution_count": 101,
      "id": "b8b1e366",
      "metadata": {
        "execution": {
          "iopub.execute_input": "2022-05-16T23:19:02.734895Z",
          "iopub.status.busy": "2022-05-16T23:19:02.734114Z",
          "iopub.status.idle": "2022-05-16T23:19:02.754237Z",
          "shell.execute_reply": "2022-05-16T23:19:02.754678Z",
          "shell.execute_reply.started": "2022-04-19T22:50:42.182674Z"
        },
        "hidden": true,
        "papermill": {
          "duration": 0.122148,
          "end_time": "2022-05-16T23:19:02.754828",
          "exception": false,
          "start_time": "2022-05-16T23:19:02.632680",
          "status": "completed"
        },
        "tags": [],
        "id": "b8b1e366",
        "outputId": "b405503a-15f1-4f04-83f7-eb8335afd79f",
        "colab": {
          "base_uri": "https://localhost:8080/"
        }
      },
      "outputs": [
        {
          "output_type": "execute_result",
          "data": {
            "text/plain": [
              "DatasetDict({\n",
              "    train: Dataset({\n",
              "        features: ['id', 'anchor', 'target', 'context', 'labels', 'input', 'input_ids', 'token_type_ids', 'attention_mask'],\n",
              "        num_rows: 1368\n",
              "    })\n",
              "    test: Dataset({\n",
              "        features: ['id', 'anchor', 'target', 'context', 'labels', 'input', 'input_ids', 'token_type_ids', 'attention_mask'],\n",
              "        num_rows: 456\n",
              "    })\n",
              "})"
            ]
          },
          "metadata": {},
          "execution_count": 101
        }
      ],
      "source": [
        "tok_dataset_dict = tok_ds.train_test_split(0.25, seed=42)\n",
        "\n",
        "tok_dataset_dict"
      ]
    },
    {
      "cell_type": "markdown",
      "id": "dc1f53c9",
      "metadata": {
        "heading_collapsed": true,
        "papermill": {
          "duration": 0.096584,
          "end_time": "2022-05-16T23:19:03.142638",
          "exception": false,
          "start_time": "2022-05-16T23:19:03.046054",
          "status": "completed"
        },
        "tags": [],
        "id": "dc1f53c9"
      },
      "source": [
        "### Test set"
      ]
    },
    {
      "cell_type": "code",
      "source": [
        "test_df.describe()"
      ],
      "metadata": {
        "id": "9Xcf_mIt4vNe",
        "colab": {
          "base_uri": "https://localhost:8080/",
          "height": 174
        },
        "outputId": "2f838539-f864-420f-b7f7-4e54a4ae5ace"
      },
      "id": "9Xcf_mIt4vNe",
      "execution_count": 102,
      "outputs": [
        {
          "output_type": "execute_result",
          "data": {
            "text/plain": [
              "                      id      anchor                         target context\n",
              "count                 36          36                             36      36\n",
              "unique                36          34                             36      29\n",
              "top     4112d61851461f60  el display  inorganic photoconductor drum     G02\n",
              "freq                   1           2                              1       3"
            ],
            "text/html": [
              "\n",
              "  <div id=\"df-c7980418-5b27-42d6-8612-c712d209601a\" class=\"colab-df-container\">\n",
              "    <div>\n",
              "<style scoped>\n",
              "    .dataframe tbody tr th:only-of-type {\n",
              "        vertical-align: middle;\n",
              "    }\n",
              "\n",
              "    .dataframe tbody tr th {\n",
              "        vertical-align: top;\n",
              "    }\n",
              "\n",
              "    .dataframe thead th {\n",
              "        text-align: right;\n",
              "    }\n",
              "</style>\n",
              "<table border=\"1\" class=\"dataframe\">\n",
              "  <thead>\n",
              "    <tr style=\"text-align: right;\">\n",
              "      <th></th>\n",
              "      <th>id</th>\n",
              "      <th>anchor</th>\n",
              "      <th>target</th>\n",
              "      <th>context</th>\n",
              "    </tr>\n",
              "  </thead>\n",
              "  <tbody>\n",
              "    <tr>\n",
              "      <th>count</th>\n",
              "      <td>36</td>\n",
              "      <td>36</td>\n",
              "      <td>36</td>\n",
              "      <td>36</td>\n",
              "    </tr>\n",
              "    <tr>\n",
              "      <th>unique</th>\n",
              "      <td>36</td>\n",
              "      <td>34</td>\n",
              "      <td>36</td>\n",
              "      <td>29</td>\n",
              "    </tr>\n",
              "    <tr>\n",
              "      <th>top</th>\n",
              "      <td>4112d61851461f60</td>\n",
              "      <td>el display</td>\n",
              "      <td>inorganic photoconductor drum</td>\n",
              "      <td>G02</td>\n",
              "    </tr>\n",
              "    <tr>\n",
              "      <th>freq</th>\n",
              "      <td>1</td>\n",
              "      <td>2</td>\n",
              "      <td>1</td>\n",
              "      <td>3</td>\n",
              "    </tr>\n",
              "  </tbody>\n",
              "</table>\n",
              "</div>\n",
              "    <div class=\"colab-df-buttons\">\n",
              "\n",
              "  <div class=\"colab-df-container\">\n",
              "    <button class=\"colab-df-convert\" onclick=\"convertToInteractive('df-c7980418-5b27-42d6-8612-c712d209601a')\"\n",
              "            title=\"Convert this dataframe to an interactive table.\"\n",
              "            style=\"display:none;\">\n",
              "\n",
              "  <svg xmlns=\"http://www.w3.org/2000/svg\" height=\"24px\" viewBox=\"0 -960 960 960\">\n",
              "    <path d=\"M120-120v-720h720v720H120Zm60-500h600v-160H180v160Zm220 220h160v-160H400v160Zm0 220h160v-160H400v160ZM180-400h160v-160H180v160Zm440 0h160v-160H620v160ZM180-180h160v-160H180v160Zm440 0h160v-160H620v160Z\"/>\n",
              "  </svg>\n",
              "    </button>\n",
              "\n",
              "  <style>\n",
              "    .colab-df-container {\n",
              "      display:flex;\n",
              "      gap: 12px;\n",
              "    }\n",
              "\n",
              "    .colab-df-convert {\n",
              "      background-color: #E8F0FE;\n",
              "      border: none;\n",
              "      border-radius: 50%;\n",
              "      cursor: pointer;\n",
              "      display: none;\n",
              "      fill: #1967D2;\n",
              "      height: 32px;\n",
              "      padding: 0 0 0 0;\n",
              "      width: 32px;\n",
              "    }\n",
              "\n",
              "    .colab-df-convert:hover {\n",
              "      background-color: #E2EBFA;\n",
              "      box-shadow: 0px 1px 2px rgba(60, 64, 67, 0.3), 0px 1px 3px 1px rgba(60, 64, 67, 0.15);\n",
              "      fill: #174EA6;\n",
              "    }\n",
              "\n",
              "    .colab-df-buttons div {\n",
              "      margin-bottom: 4px;\n",
              "    }\n",
              "\n",
              "    [theme=dark] .colab-df-convert {\n",
              "      background-color: #3B4455;\n",
              "      fill: #D2E3FC;\n",
              "    }\n",
              "\n",
              "    [theme=dark] .colab-df-convert:hover {\n",
              "      background-color: #434B5C;\n",
              "      box-shadow: 0px 1px 3px 1px rgba(0, 0, 0, 0.15);\n",
              "      filter: drop-shadow(0px 1px 2px rgba(0, 0, 0, 0.3));\n",
              "      fill: #FFFFFF;\n",
              "    }\n",
              "  </style>\n",
              "\n",
              "    <script>\n",
              "      const buttonEl =\n",
              "        document.querySelector('#df-c7980418-5b27-42d6-8612-c712d209601a button.colab-df-convert');\n",
              "      buttonEl.style.display =\n",
              "        google.colab.kernel.accessAllowed ? 'block' : 'none';\n",
              "\n",
              "      async function convertToInteractive(key) {\n",
              "        const element = document.querySelector('#df-c7980418-5b27-42d6-8612-c712d209601a');\n",
              "        const dataTable =\n",
              "          await google.colab.kernel.invokeFunction('convertToInteractive',\n",
              "                                                    [key], {});\n",
              "        if (!dataTable) return;\n",
              "\n",
              "        const docLinkHtml = 'Like what you see? Visit the ' +\n",
              "          '<a target=\"_blank\" href=https://colab.research.google.com/notebooks/data_table.ipynb>data table notebook</a>'\n",
              "          + ' to learn more about interactive tables.';\n",
              "        element.innerHTML = '';\n",
              "        dataTable['output_type'] = 'display_data';\n",
              "        await google.colab.output.renderOutput(dataTable, element);\n",
              "        const docLink = document.createElement('div');\n",
              "        docLink.innerHTML = docLinkHtml;\n",
              "        element.appendChild(docLink);\n",
              "      }\n",
              "    </script>\n",
              "  </div>\n",
              "\n",
              "\n",
              "<div id=\"df-b1901033-a2eb-4740-a8d0-ff03f8558cc4\">\n",
              "  <button class=\"colab-df-quickchart\" onclick=\"quickchart('df-b1901033-a2eb-4740-a8d0-ff03f8558cc4')\"\n",
              "            title=\"Suggest charts\"\n",
              "            style=\"display:none;\">\n",
              "\n",
              "<svg xmlns=\"http://www.w3.org/2000/svg\" height=\"24px\"viewBox=\"0 0 24 24\"\n",
              "     width=\"24px\">\n",
              "    <g>\n",
              "        <path d=\"M19 3H5c-1.1 0-2 .9-2 2v14c0 1.1.9 2 2 2h14c1.1 0 2-.9 2-2V5c0-1.1-.9-2-2-2zM9 17H7v-7h2v7zm4 0h-2V7h2v10zm4 0h-2v-4h2v4z\"/>\n",
              "    </g>\n",
              "</svg>\n",
              "  </button>\n",
              "\n",
              "<style>\n",
              "  .colab-df-quickchart {\n",
              "      --bg-color: #E8F0FE;\n",
              "      --fill-color: #1967D2;\n",
              "      --hover-bg-color: #E2EBFA;\n",
              "      --hover-fill-color: #174EA6;\n",
              "      --disabled-fill-color: #AAA;\n",
              "      --disabled-bg-color: #DDD;\n",
              "  }\n",
              "\n",
              "  [theme=dark] .colab-df-quickchart {\n",
              "      --bg-color: #3B4455;\n",
              "      --fill-color: #D2E3FC;\n",
              "      --hover-bg-color: #434B5C;\n",
              "      --hover-fill-color: #FFFFFF;\n",
              "      --disabled-bg-color: #3B4455;\n",
              "      --disabled-fill-color: #666;\n",
              "  }\n",
              "\n",
              "  .colab-df-quickchart {\n",
              "    background-color: var(--bg-color);\n",
              "    border: none;\n",
              "    border-radius: 50%;\n",
              "    cursor: pointer;\n",
              "    display: none;\n",
              "    fill: var(--fill-color);\n",
              "    height: 32px;\n",
              "    padding: 0;\n",
              "    width: 32px;\n",
              "  }\n",
              "\n",
              "  .colab-df-quickchart:hover {\n",
              "    background-color: var(--hover-bg-color);\n",
              "    box-shadow: 0 1px 2px rgba(60, 64, 67, 0.3), 0 1px 3px 1px rgba(60, 64, 67, 0.15);\n",
              "    fill: var(--button-hover-fill-color);\n",
              "  }\n",
              "\n",
              "  .colab-df-quickchart-complete:disabled,\n",
              "  .colab-df-quickchart-complete:disabled:hover {\n",
              "    background-color: var(--disabled-bg-color);\n",
              "    fill: var(--disabled-fill-color);\n",
              "    box-shadow: none;\n",
              "  }\n",
              "\n",
              "  .colab-df-spinner {\n",
              "    border: 2px solid var(--fill-color);\n",
              "    border-color: transparent;\n",
              "    border-bottom-color: var(--fill-color);\n",
              "    animation:\n",
              "      spin 1s steps(1) infinite;\n",
              "  }\n",
              "\n",
              "  @keyframes spin {\n",
              "    0% {\n",
              "      border-color: transparent;\n",
              "      border-bottom-color: var(--fill-color);\n",
              "      border-left-color: var(--fill-color);\n",
              "    }\n",
              "    20% {\n",
              "      border-color: transparent;\n",
              "      border-left-color: var(--fill-color);\n",
              "      border-top-color: var(--fill-color);\n",
              "    }\n",
              "    30% {\n",
              "      border-color: transparent;\n",
              "      border-left-color: var(--fill-color);\n",
              "      border-top-color: var(--fill-color);\n",
              "      border-right-color: var(--fill-color);\n",
              "    }\n",
              "    40% {\n",
              "      border-color: transparent;\n",
              "      border-right-color: var(--fill-color);\n",
              "      border-top-color: var(--fill-color);\n",
              "    }\n",
              "    60% {\n",
              "      border-color: transparent;\n",
              "      border-right-color: var(--fill-color);\n",
              "    }\n",
              "    80% {\n",
              "      border-color: transparent;\n",
              "      border-right-color: var(--fill-color);\n",
              "      border-bottom-color: var(--fill-color);\n",
              "    }\n",
              "    90% {\n",
              "      border-color: transparent;\n",
              "      border-bottom-color: var(--fill-color);\n",
              "    }\n",
              "  }\n",
              "</style>\n",
              "\n",
              "  <script>\n",
              "    async function quickchart(key) {\n",
              "      const quickchartButtonEl =\n",
              "        document.querySelector('#' + key + ' button');\n",
              "      quickchartButtonEl.disabled = true;  // To prevent multiple clicks.\n",
              "      quickchartButtonEl.classList.add('colab-df-spinner');\n",
              "      try {\n",
              "        const charts = await google.colab.kernel.invokeFunction(\n",
              "            'suggestCharts', [key], {});\n",
              "      } catch (error) {\n",
              "        console.error('Error during call to suggestCharts:', error);\n",
              "      }\n",
              "      quickchartButtonEl.classList.remove('colab-df-spinner');\n",
              "      quickchartButtonEl.classList.add('colab-df-quickchart-complete');\n",
              "    }\n",
              "    (() => {\n",
              "      let quickchartButtonEl =\n",
              "        document.querySelector('#df-b1901033-a2eb-4740-a8d0-ff03f8558cc4 button');\n",
              "      quickchartButtonEl.style.display =\n",
              "        google.colab.kernel.accessAllowed ? 'block' : 'none';\n",
              "    })();\n",
              "  </script>\n",
              "</div>\n",
              "\n",
              "    </div>\n",
              "  </div>\n"
            ],
            "application/vnd.google.colaboratory.intrinsic+json": {
              "type": "dataframe",
              "summary": "{\n  \"name\": \"test_df\",\n  \"rows\": 4,\n  \"fields\": [\n    {\n      \"column\": \"id\",\n      \"properties\": {\n        \"dtype\": \"string\",\n        \"num_unique_values\": 3,\n        \"samples\": [\n          \"36\",\n          \"4112d61851461f60\",\n          \"1\"\n        ],\n        \"semantic_type\": \"\",\n        \"description\": \"\"\n      }\n    },\n    {\n      \"column\": \"anchor\",\n      \"properties\": {\n        \"dtype\": \"string\",\n        \"num_unique_values\": 4,\n        \"samples\": [\n          34,\n          \"2\",\n          \"36\"\n        ],\n        \"semantic_type\": \"\",\n        \"description\": \"\"\n      }\n    },\n    {\n      \"column\": \"target\",\n      \"properties\": {\n        \"dtype\": \"string\",\n        \"num_unique_values\": 3,\n        \"samples\": [\n          \"36\",\n          \"inorganic photoconductor drum\",\n          \"1\"\n        ],\n        \"semantic_type\": \"\",\n        \"description\": \"\"\n      }\n    },\n    {\n      \"column\": \"context\",\n      \"properties\": {\n        \"dtype\": \"string\",\n        \"num_unique_values\": 4,\n        \"samples\": [\n          29,\n          \"3\",\n          \"36\"\n        ],\n        \"semantic_type\": \"\",\n        \"description\": \"\"\n      }\n    }\n  ]\n}"
            }
          },
          "metadata": {},
          "execution_count": 102
        }
      ]
    },
    {
      "cell_type": "code",
      "execution_count": 113,
      "id": "3a064b7f",
      "metadata": {
        "execution": {
          "iopub.execute_input": "2022-05-16T23:19:03.544188Z",
          "iopub.status.busy": "2022-05-16T23:19:03.543651Z",
          "iopub.status.idle": "2022-05-16T23:19:04.825203Z",
          "shell.execute_reply": "2022-05-16T23:19:04.823967Z",
          "shell.execute_reply.started": "2022-04-19T22:50:42.209113Z"
        },
        "hidden": true,
        "papermill": {
          "duration": 1.38502,
          "end_time": "2022-05-16T23:19:04.825395",
          "exception": false,
          "start_time": "2022-05-16T23:19:03.440375",
          "status": "completed"
        },
        "tags": [],
        "colab": {
          "referenced_widgets": [
            "08d5dcf54028461da730dffa83ab69fa",
            "10478cc7c92f44d5851713be293aec74",
            "479c6ef76a3548c3b681c55987ff74e2",
            "3529202eb8b54781b38fc515615200c7",
            "f09e933fbf15484a93e14f6afb65c735",
            "63141c753a2d4655866c66ecf46157c8",
            "c6866d8d0bef4e2080c1dc50a1e3272f",
            "fc594654cfff49399a4fd69c9008a9a1",
            "c863f3391d3d4587b26c0ce6159e04fc",
            "5ce0a893d4a547d0b82f1128cab58869",
            "a4fdb224251444dda812d36bc7f210c7"
          ],
          "base_uri": "https://localhost:8080/",
          "height": 49
        },
        "id": "3a064b7f",
        "outputId": "50b40ccf-31f9-4dae-f8a2-53cec3b9b9ed"
      },
      "outputs": [
        {
          "output_type": "display_data",
          "data": {
            "text/plain": [
              "Map:   0%|          | 0/36 [00:00<?, ? examples/s]"
            ],
            "application/vnd.jupyter.widget-view+json": {
              "version_major": 2,
              "version_minor": 0,
              "model_id": "08d5dcf54028461da730dffa83ab69fa"
            }
          },
          "metadata": {}
        }
      ],
      "source": [
        "test_df['input'] = 'TEXT1: ' + test_df.context + '; TEXT2: ' + test_df.target + '; ANC1: ' + test_df.anchor\n",
        "test_ds = Dataset.from_pandas(test_df).map(tok_func, batched=True)"
      ]
    },
    {
      "cell_type": "markdown",
      "id": "a782e55e",
      "metadata": {
        "heading_collapsed": true,
        "papermill": {
          "duration": 0.109004,
          "end_time": "2022-05-16T23:19:05.050664",
          "exception": false,
          "start_time": "2022-05-16T23:19:04.941660",
          "status": "completed"
        },
        "tags": [],
        "id": "a782e55e"
      },
      "source": [
        "# Metrics and Correlation"
      ]
    },
    {
      "cell_type": "markdown",
      "id": "afde9fc3",
      "metadata": {
        "hidden": true,
        "papermill": {
          "duration": 0.097068,
          "end_time": "2022-05-16T23:19:05.244731",
          "exception": false,
          "start_time": "2022-05-16T23:19:05.147663",
          "status": "completed"
        },
        "tags": [],
        "id": "afde9fc3"
      },
      "source": [
        "In Kaggle, however, it's very straightforward to know what metric to use: Kaggle will tell you! According to this competition's [evaluation page](https://www.kaggle.com/competitions/us-patent-phrase-to-phrase-matching/overview/evaluation), \"*submissions are evaluated on the [Pearson correlation coefficient](https://en.wikipedia.org/wiki/Pearson_correlation_coefficient) between the predicted and actual similarity scores*.\" This coefficient is usually abbreviated using the single letter *r*. It is the most widely used measure of the degree of relationship between two variables.\n",
        "\n",
        "r can vary between `-1`, which means perfect inverse correlation, and `+1`, which means perfect positive correlation. The mathematical formula for it is much less important than getting a good intuition for what the different values look like."
      ]
    },
    {
      "cell_type": "markdown",
      "id": "a7f0b3ea",
      "metadata": {
        "hidden": true,
        "papermill": {
          "duration": 0.098461,
          "end_time": "2022-05-16T23:19:08.933883",
          "exception": false,
          "start_time": "2022-05-16T23:19:08.835422",
          "status": "completed"
        },
        "tags": [],
        "id": "a7f0b3ea"
      },
      "source": [
        "Therefore, we'll create this little function to just return the single number we need given a pair of variables:"
      ]
    },
    {
      "cell_type": "code",
      "execution_count": 104,
      "id": "8565840d",
      "metadata": {
        "execution": {
          "iopub.execute_input": "2022-05-16T23:19:09.137395Z",
          "iopub.status.busy": "2022-05-16T23:19:09.136447Z",
          "iopub.status.idle": "2022-05-16T23:19:09.139903Z",
          "shell.execute_reply": "2022-05-16T23:19:09.140273Z",
          "shell.execute_reply.started": "2022-04-19T22:50:45.716828Z"
        },
        "hidden": true,
        "papermill": {
          "duration": 0.108235,
          "end_time": "2022-05-16T23:19:09.140419",
          "exception": false,
          "start_time": "2022-05-16T23:19:09.032184",
          "status": "completed"
        },
        "tags": [],
        "id": "8565840d"
      },
      "outputs": [],
      "source": [
        "def corr(x,y): return np.corrcoef(x,y)[0][1]"
      ]
    },
    {
      "cell_type": "markdown",
      "id": "ce158a24",
      "metadata": {
        "hidden": true,
        "papermill": {
          "duration": 0.103658,
          "end_time": "2022-05-16T23:19:13.401756",
          "exception": false,
          "start_time": "2022-05-16T23:19:13.298098",
          "status": "completed"
        },
        "tags": [],
        "id": "ce158a24"
      },
      "source": [
        "Transformers expects metrics to be returned as a `dict`, since that way the trainer knows what label to use, so let's create a function to do that:"
      ]
    },
    {
      "cell_type": "code",
      "execution_count": 105,
      "id": "a5ff917b",
      "metadata": {
        "execution": {
          "iopub.execute_input": "2022-05-16T23:19:13.612237Z",
          "iopub.status.busy": "2022-05-16T23:19:13.611377Z",
          "iopub.status.idle": "2022-05-16T23:19:13.614160Z",
          "shell.execute_reply": "2022-05-16T23:19:13.613658Z",
          "shell.execute_reply.started": "2022-04-19T22:50:46.715707Z"
        },
        "hidden": true,
        "papermill": {
          "duration": 0.109782,
          "end_time": "2022-05-16T23:19:13.614283",
          "exception": false,
          "start_time": "2022-05-16T23:19:13.504501",
          "status": "completed"
        },
        "tags": [],
        "id": "a5ff917b"
      },
      "outputs": [],
      "source": [
        "def corr_d(eval_pred): return {'pearson': corr(*eval_pred)}"
      ]
    },
    {
      "cell_type": "markdown",
      "id": "ed983c51",
      "metadata": {
        "papermill": {
          "duration": 0.102797,
          "end_time": "2022-05-16T23:19:13.819824",
          "exception": false,
          "start_time": "2022-05-16T23:19:13.717027",
          "status": "completed"
        },
        "tags": [],
        "id": "ed983c51"
      },
      "source": [
        "# Load Model"
      ]
    },
    {
      "cell_type": "markdown",
      "source": [
        "🔹I need to Speed Up my Training process for Development:\n",
        "\n",
        "* Use a Smaller Model – Instead of microsoft/deberta-v3-small, try distilbert-base-uncased (faster and lighter).\n",
        "\n",
        "* Reduce Dataset Size – Use a small subset of your dataset instead of the full set.\n",
        "\n",
        "* Lower Batch Size – Reduce per_device_train_batch_size (e.g., bs=16).\n",
        "\n",
        "* Train for Fewer Steps – Set num_train_epochs=1 or even max_steps=500.\n",
        "\n",
        "* Disable Mixed Precision (if needed) – Set fp16=False if your hardware struggles.\n",
        "\n",
        "* Use train_test_split for Quick Evaluation – Instead of using the full test set.\n",
        "\n",
        "* Use no_cuda=True for CPU Debugging – If running on CPU (slow but avoids GPU overhead for small tests)."
      ],
      "metadata": {
        "id": "8ps0IWj5yvrK"
      },
      "id": "8ps0IWj5yvrK"
    },
    {
      "cell_type": "code",
      "execution_count": 23,
      "id": "811f584f",
      "metadata": {
        "execution": {
          "iopub.execute_input": "2022-05-16T23:19:14.466565Z",
          "iopub.status.busy": "2022-05-16T23:19:14.465852Z",
          "iopub.status.idle": "2022-05-16T23:19:18.918169Z",
          "shell.execute_reply": "2022-05-16T23:19:18.917243Z",
          "shell.execute_reply.started": "2022-04-19T22:50:46.722181Z"
        },
        "papermill": {
          "duration": 4.55931,
          "end_time": "2022-05-16T23:19:18.918306",
          "exception": false,
          "start_time": "2022-05-16T23:19:14.358996",
          "status": "completed"
        },
        "tags": [],
        "id": "811f584f"
      },
      "outputs": [],
      "source": [
        "from transformers import TrainingArguments, Trainer"
      ]
    },
    {
      "cell_type": "markdown",
      "id": "bef40f65",
      "metadata": {
        "papermill": {
          "duration": 0.103363,
          "end_time": "2022-05-16T23:19:19.125535",
          "exception": false,
          "start_time": "2022-05-16T23:19:19.022172",
          "status": "completed"
        },
        "tags": [],
        "id": "bef40f65"
      },
      "source": [
        "We pick a batch size that fits our GPU, and small number of epochs so we can run experiments quickly:"
      ]
    },
    {
      "cell_type": "code",
      "execution_count": 106,
      "id": "9a7f73b8",
      "metadata": {
        "execution": {
          "iopub.execute_input": "2022-05-16T23:19:19.336295Z",
          "iopub.status.busy": "2022-05-16T23:19:19.334700Z",
          "iopub.status.idle": "2022-05-16T23:19:19.336896Z",
          "shell.execute_reply": "2022-05-16T23:19:19.337294Z",
          "shell.execute_reply.started": "2022-04-19T22:50:50.493351Z"
        },
        "papermill": {
          "duration": 0.109762,
          "end_time": "2022-05-16T23:19:19.337450",
          "exception": false,
          "start_time": "2022-05-16T23:19:19.227688",
          "status": "completed"
        },
        "tags": [],
        "id": "9a7f73b8"
      },
      "outputs": [],
      "source": [
        "# bs = 128\n",
        "bs = 16  # development\n",
        "\n",
        "# epochs = 4\n",
        "epochs = 1  # development"
      ]
    },
    {
      "cell_type": "markdown",
      "id": "1b9defba",
      "metadata": {
        "papermill": {
          "duration": 0.104127,
          "end_time": "2022-05-16T23:19:19.544960",
          "exception": false,
          "start_time": "2022-05-16T23:19:19.440833",
          "status": "completed"
        },
        "tags": [],
        "id": "1b9defba"
      },
      "source": [
        "The most important hyperparameter is the learning rate. fastai provides a learning rate finder to help you figure this out, but Transformers doesn't, so you'll just have to use trial and error. The idea is to find the largest value you can, but which doesn't result in training failing."
      ]
    },
    {
      "cell_type": "code",
      "execution_count": 107,
      "id": "95d56aa8",
      "metadata": {
        "execution": {
          "iopub.execute_input": "2022-05-16T23:19:19.756018Z",
          "iopub.status.busy": "2022-05-16T23:19:19.755174Z",
          "iopub.status.idle": "2022-05-16T23:19:19.757522Z",
          "shell.execute_reply": "2022-05-16T23:19:19.756988Z",
          "shell.execute_reply.started": "2022-04-19T22:50:50.499493Z"
        },
        "papermill": {
          "duration": 0.109843,
          "end_time": "2022-05-16T23:19:19.757641",
          "exception": false,
          "start_time": "2022-05-16T23:19:19.647798",
          "status": "completed"
        },
        "tags": [],
        "id": "95d56aa8"
      },
      "outputs": [],
      "source": [
        "# lr = 8e-5\n",
        "lr = 5e-5  # Lower learning rate  # development"
      ]
    },
    {
      "cell_type": "markdown",
      "id": "456eba4a",
      "metadata": {
        "papermill": {
          "duration": 0.104473,
          "end_time": "2022-05-16T23:19:19.964659",
          "exception": false,
          "start_time": "2022-05-16T23:19:19.860186",
          "status": "completed"
        },
        "tags": [],
        "id": "456eba4a"
      },
      "source": [
        "Transformers uses the `TrainingArguments` class to set up arguments. Don't worry too much about the values we're using here -- they should generally work fine in most cases. It's just the 3 parameters above that you may need to change for different models."
      ]
    },
    {
      "cell_type": "code",
      "execution_count": 108,
      "id": "e009173f",
      "metadata": {
        "execution": {
          "iopub.execute_input": "2022-05-16T23:19:20.241601Z",
          "iopub.status.busy": "2022-05-16T23:19:20.178470Z",
          "iopub.status.idle": "2022-05-16T23:19:20.247751Z",
          "shell.execute_reply": "2022-05-16T23:19:20.247289Z",
          "shell.execute_reply.started": "2022-04-19T22:50:50.511653Z"
        },
        "papermill": {
          "duration": 0.178531,
          "end_time": "2022-05-16T23:19:20.247877",
          "exception": false,
          "start_time": "2022-05-16T23:19:20.069346",
          "status": "completed"
        },
        "tags": [],
        "id": "e009173f"
      },
      "outputs": [],
      "source": [
        "args = TrainingArguments(\n",
        "    'outputs',\n",
        "    learning_rate=lr,\n",
        "    warmup_ratio=0.1,\n",
        "    lr_scheduler_type='cosine',\n",
        "    # fp16=True,\n",
        "    fp16=False,  # development\n",
        "    # eval_strategy=\"epoch\",\n",
        "    eval_strategy=\"steps\",  # Evaluate more frequently (or \"no\" to skip)  # development\n",
        "    per_device_train_batch_size=bs,\n",
        "    per_device_eval_batch_size=bs*2,\n",
        "    num_train_epochs=epochs,\n",
        "    weight_decay=0.01,\n",
        "    report_to='none',\n",
        "    save_strategy=\"no\",  # Avoid saving checkpoints to speed up\n",
        "    logging_steps=50,  # Log progress every 50 steps\n",
        "    max_steps=500  # Train only for 500 steps\n",
        ")"
      ]
    },
    {
      "cell_type": "code",
      "source": [
        "from transformers import TrainerCallback\n",
        "\n",
        "# Create a dictionary to store training progress\n",
        "history = {\n",
        "    \"Epoch\": [],\n",
        "    \"Training Loss\": [],\n",
        "    \"Validation Loss\": [],\n",
        "    \"Pearson\": []\n",
        "}\n",
        "\n",
        "class LoggingCallback(TrainerCallback):\n",
        "    def on_epoch_end(self, args, state, control, **kwargs):\n",
        "        # Store training loss\n",
        "        train_loss = state.log_history[-1].get(\"loss\", None)\n",
        "        val_loss = state.log_history[-1].get(\"eval_loss\", None)\n",
        "        pearson_corr = state.log_history[-1].get(\"eval_pearson\", None)\n",
        "\n",
        "        history[\"Epoch\"].append(state.epoch)\n",
        "        history[\"Training Loss\"].append(train_loss)\n",
        "        history[\"Validation Loss\"].append(val_loss)\n",
        "        history[\"Pearson\"].append(pearson_corr)\n",
        "\n",
        "        print(f\"Epoch {state.epoch}: Train Loss = {train_loss}, Val Loss = {val_loss}, Pearson = {pearson_corr}\")"
      ],
      "metadata": {
        "id": "yhdblxaIIzb3"
      },
      "id": "yhdblxaIIzb3",
      "execution_count": null,
      "outputs": []
    },
    {
      "cell_type": "markdown",
      "id": "c6f09673",
      "metadata": {
        "papermill": {
          "duration": 0.10325,
          "end_time": "2022-05-16T23:19:20.455326",
          "exception": false,
          "start_time": "2022-05-16T23:19:20.352076",
          "status": "completed"
        },
        "tags": [],
        "id": "c6f09673"
      },
      "source": [
        "We can now create our model, and `Trainer`, which is a class which combines the data and model together (just like `Learner` in fastai):"
      ]
    },
    {
      "cell_type": "code",
      "execution_count": 109,
      "id": "c242e16d",
      "metadata": {
        "execution": {
          "iopub.execute_input": "2022-05-16T23:19:20.669564Z",
          "iopub.status.busy": "2022-05-16T23:19:20.668967Z",
          "iopub.status.idle": "2022-05-16T23:19:41.632888Z",
          "shell.execute_reply": "2022-05-16T23:19:41.632215Z",
          "shell.execute_reply.started": "2022-04-19T22:50:50.57276Z"
        },
        "papermill": {
          "duration": 21.075395,
          "end_time": "2022-05-16T23:19:41.633043",
          "exception": false,
          "start_time": "2022-05-16T23:19:20.557648",
          "status": "completed"
        },
        "tags": [],
        "colab": {
          "base_uri": "https://localhost:8080/"
        },
        "id": "c242e16d",
        "outputId": "f1edb50b-106e-4a88-9222-3519a2798457"
      },
      "outputs": [
        {
          "output_type": "stream",
          "name": "stderr",
          "text": [
            "Some weights of DebertaV2ForSequenceClassification were not initialized from the model checkpoint at microsoft/deberta-v3-small and are newly initialized: ['classifier.bias', 'classifier.weight', 'pooler.dense.bias', 'pooler.dense.weight']\n",
            "You should probably TRAIN this model on a down-stream task to be able to use it for predictions and inference.\n"
          ]
        }
      ],
      "source": [
        "model = AutoModelForSequenceClassification.from_pretrained(model_nm, num_labels=1)\n",
        "\n",
        "trainer = Trainer(\n",
        "    model,\n",
        "    args,\n",
        "    train_dataset=tok_dataset_dict['train'],\n",
        "    eval_dataset=tok_dataset_dict['test'],\n",
        "    processing_class=tokz,\n",
        "    compute_metrics=corr_d,\n",
        "    callbacks=[LoggingCallback()]\n",
        ")"
      ]
    },
    {
      "cell_type": "markdown",
      "id": "e88b0728",
      "metadata": {
        "papermill": {
          "duration": 0.103838,
          "end_time": "2022-05-16T23:19:41.843310",
          "exception": false,
          "start_time": "2022-05-16T23:19:41.739472",
          "status": "completed"
        },
        "tags": [],
        "id": "e88b0728"
      },
      "source": [
        "# Train and Test"
      ]
    },
    {
      "cell_type": "code",
      "execution_count": 111,
      "id": "1a8f21fc",
      "metadata": {
        "execution": {
          "iopub.execute_input": "2022-05-16T23:19:42.058507Z",
          "iopub.status.busy": "2022-05-16T23:19:42.057901Z",
          "iopub.status.idle": "2022-05-16T23:24:41.844317Z",
          "shell.execute_reply": "2022-05-16T23:24:41.843875Z",
          "shell.execute_reply.started": "2022-04-19T22:51:06.370314Z"
        },
        "papermill": {
          "duration": 299.896532,
          "end_time": "2022-05-16T23:24:41.844469",
          "exception": false,
          "start_time": "2022-05-16T23:19:41.947937",
          "status": "completed"
        },
        "tags": [],
        "id": "1a8f21fc",
        "outputId": "96087560-f8b9-4082-f786-c012be41bcdc",
        "colab": {
          "base_uri": "https://localhost:8080/",
          "height": 388
        }
      },
      "outputs": [
        {
          "output_type": "display_data",
          "data": {
            "text/plain": [
              "<IPython.core.display.HTML object>"
            ],
            "text/html": [
              "\n",
              "    <div>\n",
              "      \n",
              "      <progress value='500' max='500' style='width:300px; height:20px; vertical-align: middle;'></progress>\n",
              "      [500/500 44:47, Epoch 5/6]\n",
              "    </div>\n",
              "    <table border=\"1\" class=\"dataframe\">\n",
              "  <thead>\n",
              " <tr style=\"text-align: left;\">\n",
              "      <th>Step</th>\n",
              "      <th>Training Loss</th>\n",
              "      <th>Validation Loss</th>\n",
              "      <th>Pearson</th>\n",
              "    </tr>\n",
              "  </thead>\n",
              "  <tbody>\n",
              "    <tr>\n",
              "      <td>50</td>\n",
              "      <td>0.074200</td>\n",
              "      <td>0.083579</td>\n",
              "      <td>0.602412</td>\n",
              "    </tr>\n",
              "    <tr>\n",
              "      <td>100</td>\n",
              "      <td>0.053500</td>\n",
              "      <td>0.040733</td>\n",
              "      <td>0.675561</td>\n",
              "    </tr>\n",
              "    <tr>\n",
              "      <td>150</td>\n",
              "      <td>0.044200</td>\n",
              "      <td>0.051567</td>\n",
              "      <td>0.694459</td>\n",
              "    </tr>\n",
              "    <tr>\n",
              "      <td>200</td>\n",
              "      <td>0.029400</td>\n",
              "      <td>0.042408</td>\n",
              "      <td>0.737755</td>\n",
              "    </tr>\n",
              "    <tr>\n",
              "      <td>250</td>\n",
              "      <td>0.028900</td>\n",
              "      <td>0.033421</td>\n",
              "      <td>0.751174</td>\n",
              "    </tr>\n",
              "    <tr>\n",
              "      <td>300</td>\n",
              "      <td>0.017600</td>\n",
              "      <td>0.034700</td>\n",
              "      <td>0.746432</td>\n",
              "    </tr>\n",
              "    <tr>\n",
              "      <td>350</td>\n",
              "      <td>0.017100</td>\n",
              "      <td>0.031445</td>\n",
              "      <td>0.759061</td>\n",
              "    </tr>\n",
              "    <tr>\n",
              "      <td>400</td>\n",
              "      <td>0.011800</td>\n",
              "      <td>0.031317</td>\n",
              "      <td>0.759684</td>\n",
              "    </tr>\n",
              "    <tr>\n",
              "      <td>450</td>\n",
              "      <td>0.012500</td>\n",
              "      <td>0.032585</td>\n",
              "      <td>0.763025</td>\n",
              "    </tr>\n",
              "    <tr>\n",
              "      <td>500</td>\n",
              "      <td>0.009800</td>\n",
              "      <td>0.032028</td>\n",
              "      <td>0.762779</td>\n",
              "    </tr>\n",
              "  </tbody>\n",
              "</table><p>"
            ]
          },
          "metadata": {}
        }
      ],
      "source": [
        "trainer.train();"
      ]
    },
    {
      "cell_type": "code",
      "source": [
        "# Convert history to DataFrame & save to CSV\n",
        "result_data_df = pd.DataFrame(history)"
      ],
      "metadata": {
        "id": "07HzJOnPEsVN"
      },
      "id": "07HzJOnPEsVN",
      "execution_count": 117,
      "outputs": []
    },
    {
      "cell_type": "code",
      "source": [
        "import matplotlib.pyplot as plt\n",
        "\n",
        "plt.figure(figsize=(10, 6))\n",
        "\n",
        "plt.plot(result_data_df['Epoch'], result_data_df['Training Loss'], label='Training Loss')\n",
        "plt.plot(result_data_df['Epoch'], result_data_df['Validation Loss'], label='Validation Loss')\n",
        "\n",
        "plt.xlabel('Epoch')\n",
        "plt.ylabel('Loss')\n",
        "plt.title('Training and Validation Metrics Over Epochs')\n",
        "plt.legend()\n",
        "plt.grid(True)\n",
        "plt.show()"
      ],
      "metadata": {
        "colab": {
          "base_uri": "https://localhost:8080/",
          "height": 564
        },
        "id": "KBBJeih4E1Xt",
        "outputId": "e4d15303-84ef-467e-b5d3-85ce73a61cb9"
      },
      "id": "KBBJeih4E1Xt",
      "execution_count": 131,
      "outputs": [
        {
          "output_type": "display_data",
          "data": {
            "text/plain": [
              "<Figure size 1000x600 with 1 Axes>"
            ],
            "image/png": "[encoded data removed]"
          },
          "metadata": {}
        }
      ]
    },
    {
      "cell_type": "code",
      "source": [
        "plt.figure(figsize=(10, 6))\n",
        "\n",
        "plt.plot(result_data_df['Epoch'], result_data_df['Pearson'], label='Pearson Correlation')\n",
        "\n",
        "plt.xlabel('Epoch')\n",
        "plt.ylabel('Pearson Correlation')\n",
        "plt.title('Pearson Correlation Over Epochs')\n",
        "plt.legend()\n",
        "plt.grid(True)\n",
        "plt.show()"
      ],
      "metadata": {
        "colab": {
          "base_uri": "https://localhost:8080/",
          "height": 564
        },
        "id": "WiWHnqOZJJeX",
        "outputId": "72cfba32-317c-4146-c005-af85b9d86325"
      },
      "id": "WiWHnqOZJJeX",
      "execution_count": 132,
      "outputs": [
        {
          "output_type": "display_data",
          "data": {
            "text/plain": [
              "<Figure size 1000x600 with 1 Axes>"
            ],
            "image/png": "[encoded data removed]"
          },
          "metadata": {}
        }
      ]
    },
    {
      "cell_type": "code",
      "execution_count": 114,
      "id": "cc9ff8a9",
      "metadata": {
        "execution": {
          "iopub.execute_input": "2022-05-16T23:24:42.337547Z",
          "iopub.status.busy": "2022-05-16T23:24:42.336666Z",
          "iopub.status.idle": "2022-05-16T23:24:42.387175Z",
          "shell.execute_reply": "2022-05-16T23:24:42.387621Z",
          "shell.execute_reply.started": "2022-04-19T22:56:03.886175Z"
        },
        "papermill": {
          "duration": 0.176198,
          "end_time": "2022-05-16T23:24:42.387780",
          "exception": false,
          "start_time": "2022-05-16T23:24:42.211582",
          "status": "completed"
        },
        "tags": [],
        "id": "cc9ff8a9",
        "outputId": "0750ecbf-4d93-4fef-a3a3-d65411c140ed",
        "colab": {
          "base_uri": "https://localhost:8080/",
          "height": 642
        }
      },
      "outputs": [
        {
          "output_type": "display_data",
          "data": {
            "text/plain": [
              "<IPython.core.display.HTML object>"
            ],
            "text/html": []
          },
          "metadata": {}
        },
        {
          "output_type": "execute_result",
          "data": {
            "text/plain": [
              "array([[ 0.50345176],\n",
              "       [ 0.72934687],\n",
              "       [ 0.57329834],\n",
              "       [ 0.31547716],\n",
              "       [ 0.17307276],\n",
              "       [ 0.46891522],\n",
              "       [ 0.25279269],\n",
              "       [ 0.04978255],\n",
              "       [ 0.39963758],\n",
              "       [ 0.9928875 ],\n",
              "       [ 0.1809625 ],\n",
              "       [ 0.32400754],\n",
              "       [ 0.69653726],\n",
              "       [ 0.44138837],\n",
              "       [ 0.84913063],\n",
              "       [ 0.37329647],\n",
              "       [ 0.17945968],\n",
              "       [ 0.31377837],\n",
              "       [ 0.4419046 ],\n",
              "       [ 0.31540933],\n",
              "       [ 0.46059078],\n",
              "       [ 0.22380453],\n",
              "       [ 0.28123119],\n",
              "       [ 0.15251639],\n",
              "       [ 0.55623758],\n",
              "       [-0.01634053],\n",
              "       [-0.06286775],\n",
              "       [ 0.1362012 ],\n",
              "       [-0.05252833],\n",
              "       [ 0.34098658],\n",
              "       [ 0.27802005],\n",
              "       [ 0.13901581],\n",
              "       [ 0.80984414],\n",
              "       [ 0.44727391],\n",
              "       [ 0.42252317],\n",
              "       [ 0.13085774]])"
            ]
          },
          "metadata": {},
          "execution_count": 114
        }
      ],
      "source": [
        "preds = trainer.predict(test_ds).predictions.astype(float)\n",
        "preds"
      ]
    },
    {
      "cell_type": "markdown",
      "id": "e7f99fe2",
      "metadata": {
        "papermill": {
          "duration": 0.118083,
          "end_time": "2022-05-16T23:24:42.627541",
          "exception": false,
          "start_time": "2022-05-16T23:24:42.509458",
          "status": "completed"
        },
        "tags": [],
        "id": "e7f99fe2"
      },
      "source": [
        "Look out - some of our predictions are <0, or >1! This once again shows the value of remember to actually *look* at your data. Let's fix those out-of-bounds predictions:"
      ]
    },
    {
      "cell_type": "code",
      "execution_count": 115,
      "id": "87e31c26",
      "metadata": {
        "execution": {
          "iopub.execute_input": "2022-05-16T23:24:42.887528Z",
          "iopub.status.busy": "2022-05-16T23:24:42.886610Z",
          "iopub.status.idle": "2022-05-16T23:24:42.888262Z",
          "shell.execute_reply": "2022-05-16T23:24:42.888836Z",
          "shell.execute_reply.started": "2022-04-19T22:56:03.940986Z"
        },
        "papermill": {
          "duration": 0.130653,
          "end_time": "2022-05-16T23:24:42.888988",
          "exception": false,
          "start_time": "2022-05-16T23:24:42.758335",
          "status": "completed"
        },
        "tags": [],
        "id": "87e31c26",
        "colab": {
          "base_uri": "https://localhost:8080/"
        },
        "outputId": "e58729d2-22bd-4e19-bb2a-9705423356ca"
      },
      "outputs": [
        {
          "output_type": "execute_result",
          "data": {
            "text/plain": [
              "array([[0.50345176],\n",
              "       [0.72934687],\n",
              "       [0.57329834],\n",
              "       [0.31547716],\n",
              "       [0.17307276],\n",
              "       [0.46891522],\n",
              "       [0.25279269],\n",
              "       [0.04978255],\n",
              "       [0.39963758],\n",
              "       [0.9928875 ],\n",
              "       [0.1809625 ],\n",
              "       [0.32400754],\n",
              "       [0.69653726],\n",
              "       [0.44138837],\n",
              "       [0.84913063],\n",
              "       [0.37329647],\n",
              "       [0.17945968],\n",
              "       [0.31377837],\n",
              "       [0.4419046 ],\n",
              "       [0.31540933],\n",
              "       [0.46059078],\n",
              "       [0.22380453],\n",
              "       [0.28123119],\n",
              "       [0.15251639],\n",
              "       [0.55623758],\n",
              "       [0.        ],\n",
              "       [0.        ],\n",
              "       [0.1362012 ],\n",
              "       [0.        ],\n",
              "       [0.34098658],\n",
              "       [0.27802005],\n",
              "       [0.13901581],\n",
              "       [0.80984414],\n",
              "       [0.44727391],\n",
              "       [0.42252317],\n",
              "       [0.13085774]])"
            ]
          },
          "metadata": {},
          "execution_count": 115
        }
      ],
      "source": [
        "preds = np.clip(preds, 0, 1)\n",
        "preds"
      ]
    },
    {
      "cell_type": "markdown",
      "source": [
        "# Output"
      ],
      "metadata": {
        "id": "-V7kuqUG6RZD"
      },
      "id": "-V7kuqUG6RZD"
    },
    {
      "cell_type": "markdown",
      "id": "613fd9ce",
      "metadata": {
        "papermill": {
          "duration": 0.1167,
          "end_time": "2022-05-16T23:24:43.367254",
          "exception": false,
          "start_time": "2022-05-16T23:24:43.250554",
          "status": "completed"
        },
        "tags": [],
        "id": "613fd9ce"
      },
      "source": [
        "OK, now we're ready to create our submission file. If you save a CSV in your notebook, you will get the option to submit it later."
      ]
    },
    {
      "cell_type": "code",
      "execution_count": null,
      "id": "7b89fb1f",
      "metadata": {
        "execution": {
          "iopub.execute_input": "2022-05-16T23:24:43.662645Z",
          "iopub.status.busy": "2022-05-16T23:24:43.661829Z",
          "iopub.status.idle": "2022-05-16T23:24:43.714350Z",
          "shell.execute_reply": "2022-05-16T23:24:43.712706Z",
          "shell.execute_reply.started": "2022-04-19T22:56:03.959351Z"
        },
        "papermill": {
          "duration": 0.173814,
          "end_time": "2022-05-16T23:24:43.714480",
          "exception": false,
          "start_time": "2022-05-16T23:24:43.540666",
          "status": "completed"
        },
        "tags": [],
        "id": "7b89fb1f"
      },
      "outputs": [],
      "source": [
        "# import datasets\n",
        "\n",
        "# submission = datasets.Dataset.from_dict({\n",
        "#     'id': eval_ds['id'],\n",
        "#     'score': preds\n",
        "# })\n",
        "\n",
        "# submission.to_csv('submission.csv', index=False)"
      ]
    }
  ],
  "metadata": {
    "kernelspec": {
      "display_name": "Python 3",
      "language": "python",
      "name": "python3"
    },
    "language_info": {
      "codemirror_mode": {
        "name": "ipython",
        "version": 3
      },
      "file_extension": ".py",
      "mimetype": "text/x-python",
      "name": "python",
      "nbconvert_exporter": "python",
      "pygments_lexer": "ipython3",
      "version": "3.7.12"
    },
    "papermill": {
      "default_parameters": {},
      "duration": 396.918297,
      "end_time": "2022-05-16T23:24:47.551396",
      "environment_variables": {},
      "exception": null,
      "input_path": "__notebook__.ipynb",
      "output_path": "__notebook__.ipynb",
      "parameters": {},
      "start_time": "2022-05-16T23:18:10.633099",
      "version": "2.3.3"
    },
    "colab": {
      "provenance": []
    },
    "widgets": {
      "application/vnd.jupyter.widget-state+json": {
        "a24f670ae7ce48f2b4db5b82d7789f34": {
          "model_module": "@jupyter-widgets/controls",
          "model_name": "HBoxModel",
          "model_module_version": "1.5.0",
          "state": {
            "_dom_classes": [],
            "_model_module": "@jupyter-widgets/controls",
            "_model_module_version": "1.5.0",
            "_model_name": "HBoxModel",
            "_view_count": null,
            "_view_module": "@jupyter-widgets/controls",
            "_view_module_version": "1.5.0",
            "_view_name": "HBoxView",
            "box_style": "",
            "children": [
              "IPY_MODEL_46cb04cc67644603ae2aac705f9ddd29",
              "IPY_MODEL_d1bae8c6d0c6457486e5bae0f810dd6f",
              "IPY_MODEL_c5041fca27a947f19e3346d57fc7162d"
            ],
            "layout": "IPY_MODEL_b422ed1440fd4736b32de9aa68c4eee9"
          }
        },
        "46cb04cc67644603ae2aac705f9ddd29": {
          "model_module": "@jupyter-widgets/controls",
          "model_name": "HTMLModel",
          "model_module_version": "1.5.0",
          "state": {
            "_dom_classes": [],
            "_model_module": "@jupyter-widgets/controls",
            "_model_module_version": "1.5.0",
            "_model_name": "HTMLModel",
            "_view_count": null,
            "_view_module": "@jupyter-widgets/controls",
            "_view_module_version": "1.5.0",
            "_view_name": "HTMLView",
            "description": "",
            "description_tooltip": null,
            "layout": "IPY_MODEL_728988c1654040779dcf8bc7ee175ab1",
            "placeholder": "​",
            "style": "IPY_MODEL_3ab668f6e817491e9b692a53ac854fa7",
            "value": "Map: 100%"
          }
        },
        "d1bae8c6d0c6457486e5bae0f810dd6f": {
          "model_module": "@jupyter-widgets/controls",
          "model_name": "FloatProgressModel",
          "model_module_version": "1.5.0",
          "state": {
            "_dom_classes": [],
            "_model_module": "@jupyter-widgets/controls",
            "_model_module_version": "1.5.0",
            "_model_name": "FloatProgressModel",
            "_view_count": null,
            "_view_module": "@jupyter-widgets/controls",
            "_view_module_version": "1.5.0",
            "_view_name": "ProgressView",
            "bar_style": "success",
            "description": "",
            "description_tooltip": null,
            "layout": "IPY_MODEL_cab0cda0fc034b3eb9e8900514f616b5",
            "max": 1824,
            "min": 0,
            "orientation": "horizontal",
            "style": "IPY_MODEL_98bc779f83c54f65afa95d0815bcdccf",
            "value": 1824
          }
        },
        "c5041fca27a947f19e3346d57fc7162d": {
          "model_module": "@jupyter-widgets/controls",
          "model_name": "HTMLModel",
          "model_module_version": "1.5.0",
          "state": {
            "_dom_classes": [],
            "_model_module": "@jupyter-widgets/controls",
            "_model_module_version": "1.5.0",
            "_model_name": "HTMLModel",
            "_view_count": null,
            "_view_module": "@jupyter-widgets/controls",
            "_view_module_version": "1.5.0",
            "_view_name": "HTMLView",
            "description": "",
            "description_tooltip": null,
            "layout": "IPY_MODEL_ef68587bb589401e9c43dd3f03734510",
            "placeholder": "​",
            "style": "IPY_MODEL_1266e034211845d5aecb1bc221ad7d8c",
            "value": " 1824/1824 [00:00&lt;00:00, 8290.45 examples/s]"
          }
        },
        "b422ed1440fd4736b32de9aa68c4eee9": {
          "model_module": "@jupyter-widgets/base",
          "model_name": "LayoutModel",
          "model_module_version": "1.2.0",
          "state": {
            "_model_module": "@jupyter-widgets/base",
            "_model_module_version": "1.2.0",
            "_model_name": "LayoutModel",
            "_view_count": null,
            "_view_module": "@jupyter-widgets/base",
            "_view_module_version": "1.2.0",
            "_view_name": "LayoutView",
            "align_content": null,
            "align_items": null,
            "align_self": null,
            "border": null,
            "bottom": null,
            "display": null,
            "flex": null,
            "flex_flow": null,
            "grid_area": null,
            "grid_auto_columns": null,
            "grid_auto_flow": null,
            "grid_auto_rows": null,
            "grid_column": null,
            "grid_gap": null,
            "grid_row": null,
            "grid_template_areas": null,
            "grid_template_columns": null,
            "grid_template_rows": null,
            "height": null,
            "justify_content": null,
            "justify_items": null,
            "left": null,
            "margin": null,
            "max_height": null,
            "max_width": null,
            "min_height": null,
            "min_width": null,
            "object_fit": null,
            "object_position": null,
            "order": null,
            "overflow": null,
            "overflow_x": null,
            "overflow_y": null,
            "padding": null,
            "right": null,
            "top": null,
            "visibility": null,
            "width": null
          }
        },
        "728988c1654040779dcf8bc7ee175ab1": {
          "model_module": "@jupyter-widgets/base",
          "model_name": "LayoutModel",
          "model_module_version": "1.2.0",
          "state": {
            "_model_module": "@jupyter-widgets/base",
            "_model_module_version": "1.2.0",
            "_model_name": "LayoutModel",
            "_view_count": null,
            "_view_module": "@jupyter-widgets/base",
            "_view_module_version": "1.2.0",
            "_view_name": "LayoutView",
            "align_content": null,
            "align_items": null,
            "align_self": null,
            "border": null,
            "bottom": null,
            "display": null,
            "flex": null,
            "flex_flow": null,
            "grid_area": null,
            "grid_auto_columns": null,
            "grid_auto_flow": null,
            "grid_auto_rows": null,
            "grid_column": null,
            "grid_gap": null,
            "grid_row": null,
            "grid_template_areas": null,
            "grid_template_columns": null,
            "grid_template_rows": null,
            "height": null,
            "justify_content": null,
            "justify_items": null,
            "left": null,
            "margin": null,
            "max_height": null,
            "max_width": null,
            "min_height": null,
            "min_width": null,
            "object_fit": null,
            "object_position": null,
            "order": null,
            "overflow": null,
            "overflow_x": null,
            "overflow_y": null,
            "padding": null,
            "right": null,
            "top": null,
            "visibility": null,
            "width": null
          }
        },
        "3ab668f6e817491e9b692a53ac854fa7": {
          "model_module": "@jupyter-widgets/controls",
          "model_name": "DescriptionStyleModel",
          "model_module_version": "1.5.0",
          "state": {
            "_model_module": "@jupyter-widgets/controls",
            "_model_module_version": "1.5.0",
            "_model_name": "DescriptionStyleModel",
            "_view_count": null,
            "_view_module": "@jupyter-widgets/base",
            "_view_module_version": "1.2.0",
            "_view_name": "StyleView",
            "description_width": ""
          }
        },
        "cab0cda0fc034b3eb9e8900514f616b5": {
          "model_module": "@jupyter-widgets/base",
          "model_name": "LayoutModel",
          "model_module_version": "1.2.0",
          "state": {
            "_model_module": "@jupyter-widgets/base",
            "_model_module_version": "1.2.0",
            "_model_name": "LayoutModel",
            "_view_count": null,
            "_view_module": "@jupyter-widgets/base",
            "_view_module_version": "1.2.0",
            "_view_name": "LayoutView",
            "align_content": null,
            "align_items": null,
            "align_self": null,
            "border": null,
            "bottom": null,
            "display": null,
            "flex": null,
            "flex_flow": null,
            "grid_area": null,
            "grid_auto_columns": null,
            "grid_auto_flow": null,
            "grid_auto_rows": null,
            "grid_column": null,
            "grid_gap": null,
            "grid_row": null,
            "grid_template_areas": null,
            "grid_template_columns": null,
            "grid_template_rows": null,
            "height": null,
            "justify_content": null,
            "justify_items": null,
            "left": null,
            "margin": null,
            "max_height": null,
            "max_width": null,
            "min_height": null,
            "min_width": null,
            "object_fit": null,
            "object_position": null,
            "order": null,
            "overflow": null,
            "overflow_x": null,
            "overflow_y": null,
            "padding": null,
            "right": null,
            "top": null,
            "visibility": null,
            "width": null
          }
        },
        "98bc779f83c54f65afa95d0815bcdccf": {
          "model_module": "@jupyter-widgets/controls",
          "model_name": "ProgressStyleModel",
          "model_module_version": "1.5.0",
          "state": {
            "_model_module": "@jupyter-widgets/controls",
            "_model_module_version": "1.5.0",
            "_model_name": "ProgressStyleModel",
            "_view_count": null,
            "_view_module": "@jupyter-widgets/base",
            "_view_module_version": "1.2.0",
            "_view_name": "StyleView",
            "bar_color": null,
            "description_width": ""
          }
        },
        "ef68587bb589401e9c43dd3f03734510": {
          "model_module": "@jupyter-widgets/base",
          "model_name": "LayoutModel",
          "model_module_version": "1.2.0",
          "state": {
            "_model_module": "@jupyter-widgets/base",
            "_model_module_version": "1.2.0",
            "_model_name": "LayoutModel",
            "_view_count": null,
            "_view_module": "@jupyter-widgets/base",
            "_view_module_version": "1.2.0",
            "_view_name": "LayoutView",
            "align_content": null,
            "align_items": null,
            "align_self": null,
            "border": null,
            "bottom": null,
            "display": null,
            "flex": null,
            "flex_flow": null,
            "grid_area": null,
            "grid_auto_columns": null,
            "grid_auto_flow": null,
            "grid_auto_rows": null,
            "grid_column": null,
            "grid_gap": null,
            "grid_row": null,
            "grid_template_areas": null,
            "grid_template_columns": null,
            "grid_template_rows": null,
            "height": null,
            "justify_content": null,
            "justify_items": null,
            "left": null,
            "margin": null,
            "max_height": null,
            "max_width": null,
            "min_height": null,
            "min_width": null,
            "object_fit": null,
            "object_position": null,
            "order": null,
            "overflow": null,
            "overflow_x": null,
            "overflow_y": null,
            "padding": null,
            "right": null,
            "top": null,
            "visibility": null,
            "width": null
          }
        },
        "1266e034211845d5aecb1bc221ad7d8c": {
          "model_module": "@jupyter-widgets/controls",
          "model_name": "DescriptionStyleModel",
          "model_module_version": "1.5.0",
          "state": {
            "_model_module": "@jupyter-widgets/controls",
            "_model_module_version": "1.5.0",
            "_model_name": "DescriptionStyleModel",
            "_view_count": null,
            "_view_module": "@jupyter-widgets/base",
            "_view_module_version": "1.2.0",
            "_view_name": "StyleView",
            "description_width": ""
          }
        },
        "08d5dcf54028461da730dffa83ab69fa": {
          "model_module": "@jupyter-widgets/controls",
          "model_name": "HBoxModel",
          "model_module_version": "1.5.0",
          "state": {
            "_dom_classes": [],
            "_model_module": "@jupyter-widgets/controls",
            "_model_module_version": "1.5.0",
            "_model_name": "HBoxModel",
            "_view_count": null,
            "_view_module": "@jupyter-widgets/controls",
            "_view_module_version": "1.5.0",
            "_view_name": "HBoxView",
            "box_style": "",
            "children": [
              "IPY_MODEL_10478cc7c92f44d5851713be293aec74",
              "IPY_MODEL_479c6ef76a3548c3b681c55987ff74e2",
              "IPY_MODEL_3529202eb8b54781b38fc515615200c7"
            ],
            "layout": "IPY_MODEL_f09e933fbf15484a93e14f6afb65c735"
          }
        },
        "10478cc7c92f44d5851713be293aec74": {
          "model_module": "@jupyter-widgets/controls",
          "model_name": "HTMLModel",
          "model_module_version": "1.5.0",
          "state": {
            "_dom_classes": [],
            "_model_module": "@jupyter-widgets/controls",
            "_model_module_version": "1.5.0",
            "_model_name": "HTMLModel",
            "_view_count": null,
            "_view_module": "@jupyter-widgets/controls",
            "_view_module_version": "1.5.0",
            "_view_name": "HTMLView",
            "description": "",
            "description_tooltip": null,
            "layout": "IPY_MODEL_63141c753a2d4655866c66ecf46157c8",
            "placeholder": "​",
            "style": "IPY_MODEL_c6866d8d0bef4e2080c1dc50a1e3272f",
            "value": "Map: 100%"
          }
        },
        "479c6ef76a3548c3b681c55987ff74e2": {
          "model_module": "@jupyter-widgets/controls",
          "model_name": "FloatProgressModel",
          "model_module_version": "1.5.0",
          "state": {
            "_dom_classes": [],
            "_model_module": "@jupyter-widgets/controls",
            "_model_module_version": "1.5.0",
            "_model_name": "FloatProgressModel",
            "_view_count": null,
            "_view_module": "@jupyter-widgets/controls",
            "_view_module_version": "1.5.0",
            "_view_name": "ProgressView",
            "bar_style": "success",
            "description": "",
            "description_tooltip": null,
            "layout": "IPY_MODEL_fc594654cfff49399a4fd69c9008a9a1",
            "max": 36,
            "min": 0,
            "orientation": "horizontal",
            "style": "IPY_MODEL_c863f3391d3d4587b26c0ce6159e04fc",
            "value": 36
          }
        },
        "3529202eb8b54781b38fc515615200c7": {
          "model_module": "@jupyter-widgets/controls",
          "model_name": "HTMLModel",
          "model_module_version": "1.5.0",
          "state": {
            "_dom_classes": [],
            "_model_module": "@jupyter-widgets/controls",
            "_model_module_version": "1.5.0",
            "_model_name": "HTMLModel",
            "_view_count": null,
            "_view_module": "@jupyter-widgets/controls",
            "_view_module_version": "1.5.0",
            "_view_name": "HTMLView",
            "description": "",
            "description_tooltip": null,
            "layout": "IPY_MODEL_5ce0a893d4a547d0b82f1128cab58869",
            "placeholder": "​",
            "style": "IPY_MODEL_a4fdb224251444dda812d36bc7f210c7",
            "value": " 36/36 [00:00&lt;00:00, 253.01 examples/s]"
          }
        },
        "f09e933fbf15484a93e14f6afb65c735": {
          "model_module": "@jupyter-widgets/base",
          "model_name": "LayoutModel",
          "model_module_version": "1.2.0",
          "state": {
            "_model_module": "@jupyter-widgets/base",
            "_model_module_version": "1.2.0",
            "_model_name": "LayoutModel",
            "_view_count": null,
            "_view_module": "@jupyter-widgets/base",
            "_view_module_version": "1.2.0",
            "_view_name": "LayoutView",
            "align_content": null,
            "align_items": null,
            "align_self": null,
            "border": null,
            "bottom": null,
            "display": null,
            "flex": null,
            "flex_flow": null,
            "grid_area": null,
            "grid_auto_columns": null,
            "grid_auto_flow": null,
            "grid_auto_rows": null,
            "grid_column": null,
            "grid_gap": null,
            "grid_row": null,
            "grid_template_areas": null,
            "grid_template_columns": null,
            "grid_template_rows": null,
            "height": null,
            "justify_content": null,
            "justify_items": null,
            "left": null,
            "margin": null,
            "max_height": null,
            "max_width": null,
            "min_height": null,
            "min_width": null,
            "object_fit": null,
            "object_position": null,
            "order": null,
            "overflow": null,
            "overflow_x": null,
            "overflow_y": null,
            "padding": null,
            "right": null,
            "top": null,
            "visibility": null,
            "width": null
          }
        },
        "63141c753a2d4655866c66ecf46157c8": {
          "model_module": "@jupyter-widgets/base",
          "model_name": "LayoutModel",
          "model_module_version": "1.2.0",
          "state": {
            "_model_module": "@jupyter-widgets/base",
            "_model_module_version": "1.2.0",
            "_model_name": "LayoutModel",
            "_view_count": null,
            "_view_module": "@jupyter-widgets/base",
            "_view_module_version": "1.2.0",
            "_view_name": "LayoutView",
            "align_content": null,
            "align_items": null,
            "align_self": null,
            "border": null,
            "bottom": null,
            "display": null,
            "flex": null,
            "flex_flow": null,
            "grid_area": null,
            "grid_auto_columns": null,
            "grid_auto_flow": null,
            "grid_auto_rows": null,
            "grid_column": null,
            "grid_gap": null,
            "grid_row": null,
            "grid_template_areas": null,
            "grid_template_columns": null,
            "grid_template_rows": null,
            "height": null,
            "justify_content": null,
            "justify_items": null,
            "left": null,
            "margin": null,
            "max_height": null,
            "max_width": null,
            "min_height": null,
            "min_width": null,
            "object_fit": null,
            "object_position": null,
            "order": null,
            "overflow": null,
            "overflow_x": null,
            "overflow_y": null,
            "padding": null,
            "right": null,
            "top": null,
            "visibility": null,
            "width": null
          }
        },
        "c6866d8d0bef4e2080c1dc50a1e3272f": {
          "model_module": "@jupyter-widgets/controls",
          "model_name": "DescriptionStyleModel",
          "model_module_version": "1.5.0",
          "state": {
            "_model_module": "@jupyter-widgets/controls",
            "_model_module_version": "1.5.0",
            "_model_name": "DescriptionStyleModel",
            "_view_count": null,
            "_view_module": "@jupyter-widgets/base",
            "_view_module_version": "1.2.0",
            "_view_name": "StyleView",
            "description_width": ""
          }
        },
        "fc594654cfff49399a4fd69c9008a9a1": {
          "model_module": "@jupyter-widgets/base",
          "model_name": "LayoutModel",
          "model_module_version": "1.2.0",
          "state": {
            "_model_module": "@jupyter-widgets/base",
            "_model_module_version": "1.2.0",
            "_model_name": "LayoutModel",
            "_view_count": null,
            "_view_module": "@jupyter-widgets/base",
            "_view_module_version": "1.2.0",
            "_view_name": "LayoutView",
            "align_content": null,
            "align_items": null,
            "align_self": null,
            "border": null,
            "bottom": null,
            "display": null,
            "flex": null,
            "flex_flow": null,
            "grid_area": null,
            "grid_auto_columns": null,
            "grid_auto_flow": null,
            "grid_auto_rows": null,
            "grid_column": null,
            "grid_gap": null,
            "grid_row": null,
            "grid_template_areas": null,
            "grid_template_columns": null,
            "grid_template_rows": null,
            "height": null,
            "justify_content": null,
            "justify_items": null,
            "left": null,
            "margin": null,
            "max_height": null,
            "max_width": null,
            "min_height": null,
            "min_width": null,
            "object_fit": null,
            "object_position": null,
            "order": null,
            "overflow": null,
            "overflow_x": null,
            "overflow_y": null,
            "padding": null,
            "right": null,
            "top": null,
            "visibility": null,
            "width": null
          }
        },
        "c863f3391d3d4587b26c0ce6159e04fc": {
          "model_module": "@jupyter-widgets/controls",
          "model_name": "ProgressStyleModel",
          "model_module_version": "1.5.0",
          "state": {
            "_model_module": "@jupyter-widgets/controls",
            "_model_module_version": "1.5.0",
            "_model_name": "ProgressStyleModel",
            "_view_count": null,
            "_view_module": "@jupyter-widgets/base",
            "_view_module_version": "1.2.0",
            "_view_name": "StyleView",
            "bar_color": null,
            "description_width": ""
          }
        },
        "5ce0a893d4a547d0b82f1128cab58869": {
          "model_module": "@jupyter-widgets/base",
          "model_name": "LayoutModel",
          "model_module_version": "1.2.0",
          "state": {
            "_model_module": "@jupyter-widgets/base",
            "_model_module_version": "1.2.0",
            "_model_name": "LayoutModel",
            "_view_count": null,
            "_view_module": "@jupyter-widgets/base",
            "_view_module_version": "1.2.0",
            "_view_name": "LayoutView",
            "align_content": null,
            "align_items": null,
            "align_self": null,
            "border": null,
            "bottom": null,
            "display": null,
            "flex": null,
            "flex_flow": null,
            "grid_area": null,
            "grid_auto_columns": null,
            "grid_auto_flow": null,
            "grid_auto_rows": null,
            "grid_column": null,
            "grid_gap": null,
            "grid_row": null,
            "grid_template_areas": null,
            "grid_template_columns": null,
            "grid_template_rows": null,
            "height": null,
            "justify_content": null,
            "justify_items": null,
            "left": null,
            "margin": null,
            "max_height": null,
            "max_width": null,
            "min_height": null,
            "min_width": null,
            "object_fit": null,
            "object_position": null,
            "order": null,
            "overflow": null,
            "overflow_x": null,
            "overflow_y": null,
            "padding": null,
            "right": null,
            "top": null,
            "visibility": null,
            "width": null
          }
        },
        "a4fdb224251444dda812d36bc7f210c7": {
          "model_module": "@jupyter-widgets/controls",
          "model_name": "DescriptionStyleModel",
          "model_module_version": "1.5.0",
          "state": {
            "_model_module": "@jupyter-widgets/controls",
            "_model_module_version": "1.5.0",
            "_model_name": "DescriptionStyleModel",
            "_view_count": null,
            "_view_module": "@jupyter-widgets/base",
            "_view_module_version": "1.2.0",
            "_view_name": "StyleView",
            "description_width": ""
          }
        }
      }
    }
  },
  "nbformat": 4,
  "nbformat_minor": 5
}